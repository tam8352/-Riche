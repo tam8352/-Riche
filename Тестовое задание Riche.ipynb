{
 "cells": [
  {
   "cell_type": "markdown",
   "id": "dd4bfe95",
   "metadata": {},
   "source": [
    "## Решение тестового задания и анализ данных retailcrm Riche"
   ]
  },
  {
   "cell_type": "markdown",
   "id": "9a432405",
   "metadata": {},
   "source": [
    "# Цель проекта:\n",
    "\n",
    "**Демонстрация способностей соискателя и решение тестового задания на основе аналитических данных из базы retailcrm**"
   ]
  },
  {
   "cell_type": "markdown",
   "id": "247af0bb",
   "metadata": {},
   "source": [
    "**Описание:**\n",
    "\n",
    "В нашем распоряжении задние от Riche для соискателя на вакансию Python разработчик (Аналитик BI):"
   ]
  },
  {
   "cell_type": "markdown",
   "id": "858d611a",
   "metadata": {},
   "source": [
    "Задание для разработчиков\n",
    "@sangisoNovember 15, 2023\n",
    "Это задание для разработчиков разделено на две части.\n",
    "\n",
    "1️⃣ Основная цель – извлечение данных с сайта Retail CRM, их очистка, и отправка через наше API в базу данных.\n",
    "\n",
    "✏️ Необходимо использовать метод для получения данных: ссылка\n",
    "\n",
    "✏️ Метод для записи данных: /site/add_site_data/ ссылка\n",
    "\n",
    "✏️ Метод для записи данных: /site/add_site_items/ ссылка\n",
    "\n",
    "✏️ API-документация: ссылка\n",
    "\n",
    "2️⃣ Вторая часть задания связана с пагинацией метода “orders” (RetailCRM). Требуется загрузить большой объем данных за определенный период и записать их в базу данных. Под этим подразумевается следующее: допустим, на RetailCRM есть 100 заказов, но они выдают только 10 заказов за один запрос. Поэтому придется сделать несколько запросов: 10, 10, 10 и так далее.\n",
    "\n",
    " Успешным выполнением запроса считается получение ответа от нашего API:\n",
    "\n",
    "{\n",
    "\"status\": true, \n",
    "\"message\": \"Создано - 7 повторения - 0 за 00:00:00.007\" \n",
    "} \n",
    "Весь получившийся код нужно будет передать через удаленный репозиторий (GitHub, GitLab), на ваш выбор.\n",
    "\n",
    "Данные для RCRM:\n",
    "\n",
    "api_key = FjqFa87rUgdvxFhrhyPQQiy41kl5AnXq-1\n",
    "\n",
    "site = app-riche-skin\n",
    "\n",
    "api_url = https://b7w2x7a.retailcrm.ru/api/v5/orders\n",
    "\n",
    "\n",
    "\n",
    "👉 По всем вопросам можете писать мне в TG 📲 https://t.me/sangiso "
   ]
  },
  {
   "cell_type": "markdown",
   "id": "7e0f7c8e",
   "metadata": {},
   "source": [
    "# Решение:"
   ]
  },
  {
   "cell_type": "code",
   "execution_count": 1,
   "id": "dfa19205",
   "metadata": {
    "scrolled": true
   },
   "outputs": [],
   "source": [
    "# импортируем необходимые библиотеки\n",
    "import requests\n",
    "import json"
   ]
  },
  {
   "cell_type": "code",
   "execution_count": 2,
   "id": "e0dfde69",
   "metadata": {
    "scrolled": true
   },
   "outputs": [],
   "source": [
    "# зададим в переменных адрес URL и ключ для запроса из API\n",
    "URL_GET = 'https://b7w2x7a.retailcrm.ru/api/v5/orders'\n",
    "headers = {\"X-API-KEY\": \"FjqFa87rUgdvxFhrhyPQQiy41kl5AnXq-1\"}"
   ]
  },
  {
   "cell_type": "code",
   "execution_count": 3,
   "id": "80367506",
   "metadata": {
    "scrolled": true
   },
   "outputs": [],
   "source": [
    "# создадим get запрос из базы retailcrm\n",
    "res = requests.get(url=URL_GET, headers=headers)\n",
    "data = res.json()\n",
    "# выведем ответ в формате json\n",
    "#data"
   ]
  },
  {
   "cell_type": "markdown",
   "id": "4e67add0",
   "metadata": {
    "scrolled": true
   },
   "source": [
    "Получили первую страницу ответа из retailcrm. В заднии требуется: \"Успешным выполнением запроса считается получение ответа от нашего API\". Попробуем запросить доступ к API получателя, данного в задании:"
   ]
  },
  {
   "cell_type": "markdown",
   "id": "99d5b8a9",
   "metadata": {},
   "source": [
    "# попробуем get запрос к сайту в задании (post ззапрос не будет успешен без успешного get)\n",
    "URL_GET = 'https://app-riche-skin'\n",
    "res = requests.get(url=URL_GET)\n",
    "res"
   ]
  },
  {
   "cell_type": "markdown",
   "id": "e6ba9b5a",
   "metadata": {},
   "source": [
    "Встречаем ошибку  HTTPSConnectionPool(host='app-riche-skin', port=443). Попробуем доступ к основному сайту компании:"
   ]
  },
  {
   "cell_type": "code",
   "execution_count": 4,
   "id": "974d1055",
   "metadata": {
    "scrolled": true
   },
   "outputs": [],
   "source": [
    "URL_GET = 'https://riche.skin'"
   ]
  },
  {
   "cell_type": "code",
   "execution_count": 5,
   "id": "68bfcfe6",
   "metadata": {
    "scrolled": true
   },
   "outputs": [
    {
     "data": {
      "text/plain": [
       "<Response [200]>"
      ]
     },
     "execution_count": 5,
     "metadata": {},
     "output_type": "execute_result"
    }
   ],
   "source": [
    "res = requests.get(url=URL_GET)\n",
    "res"
   ]
  },
  {
   "cell_type": "code",
   "execution_count": 6,
   "id": "2596c323",
   "metadata": {
    "scrolled": true
   },
   "outputs": [],
   "source": [
    "#res.text"
   ]
  },
  {
   "cell_type": "markdown",
   "id": "a17b5589",
   "metadata": {},
   "source": [
    "Получем доступ по get запросу к основму сайту. Здесь возможен вопрос в рамках задания: \"👉 По всем вопросам можете писать мне в TG 📲 https://t.me/sangiso\"\n",
    "\n",
    "Вариант решения задания (с учетом пагинации):\n",
    "\n",
    "через перебор чиклом перебирем страницы в параметрах get запроса\n",
    "сохраняем в json post заапрос на сайт внутренней CRM\n",
    "for p in range(1, 8):  \n",
    "-    response = requests.get(url=URL_GET, headers=headers, params={\"page\" : p})  \n",
    "-    data = response.json()  \n",
    "-    r = requests.post('https://app-riche-skin/add_site_data', data = data)  "
   ]
  },
  {
   "cell_type": "markdown",
   "id": "552b67aa",
   "metadata": {},
   "source": [
    "Вопросы для выполения тестового задания:\n",
    "\n",
    "* в чем ошибка доступа в GET к app-riche-skin? без него невозможны POST методы описанные в документации  \n",
    "* какова структура body должна быть в post запросе?"
   ]
  },
  {
   "cell_type": "code",
   "execution_count": null,
   "id": "caf816b8",
   "metadata": {
    "scrolled": true
   },
   "outputs": [],
   "source": []
  },
  {
   "cell_type": "markdown",
   "id": "c6381e44",
   "metadata": {},
   "source": [
    "# Анализ:"
   ]
  },
  {
   "cell_type": "markdown",
   "id": "37e3dfa8",
   "metadata": {},
   "source": [
    "Попробуем проанализировать то, к чему имеем доступ:"
   ]
  },
  {
   "cell_type": "code",
   "execution_count": 7,
   "id": "eeb899c2",
   "metadata": {
    "scrolled": true
   },
   "outputs": [],
   "source": [
    "# импортируем библитеку pandas\n",
    "import pandas as pd\n",
    "# импорт библиотеки matplotlib\n",
    "import matplotlib.pyplot as plt"
   ]
  },
  {
   "cell_type": "code",
   "execution_count": 8,
   "id": "c845f578",
   "metadata": {
    "scrolled": true
   },
   "outputs": [],
   "source": [
    "# зададим в переменных адрес URL и ключ для запроса из API\n",
    "URL_GET = 'https://b7w2x7a.retailcrm.ru/api/v5/orders'\n",
    "headers = {\"X-API-KEY\": \"FjqFa87rUgdvxFhrhyPQQiy41kl5AnXq-1\"}"
   ]
  },
  {
   "cell_type": "code",
   "execution_count": 9,
   "id": "1084a64f",
   "metadata": {
    "scrolled": true
   },
   "outputs": [],
   "source": [
    "# создадим get запрос из базы retailcrm\n",
    "res = requests.get(url=URL_GET, headers=headers)\n",
    "data = res.json()\n",
    "# оставим из списка только вложенный список orders в переменной df\n",
    "df = pd.DataFrame(data[\"orders\"])"
   ]
  },
  {
   "cell_type": "code",
   "execution_count": 10,
   "id": "ff36c69d",
   "metadata": {
    "scrolled": false
   },
   "outputs": [
    {
     "data": {
      "text/html": [
       "<div>\n",
       "<style scoped>\n",
       "    .dataframe tbody tr th:only-of-type {\n",
       "        vertical-align: middle;\n",
       "    }\n",
       "\n",
       "    .dataframe tbody tr th {\n",
       "        vertical-align: top;\n",
       "    }\n",
       "\n",
       "    .dataframe thead th {\n",
       "        text-align: right;\n",
       "    }\n",
       "</style>\n",
       "<table border=\"1\" class=\"dataframe\">\n",
       "  <thead>\n",
       "    <tr style=\"text-align: right;\">\n",
       "      <th></th>\n",
       "      <th>slug</th>\n",
       "      <th>bonusesCreditTotal</th>\n",
       "      <th>bonusesChargeTotal</th>\n",
       "      <th>id</th>\n",
       "      <th>number</th>\n",
       "      <th>orderType</th>\n",
       "      <th>privilegeType</th>\n",
       "      <th>countryIso</th>\n",
       "      <th>createdAt</th>\n",
       "      <th>statusUpdatedAt</th>\n",
       "      <th>...</th>\n",
       "      <th>currency</th>\n",
       "      <th>externalId</th>\n",
       "      <th>orderMethod</th>\n",
       "      <th>lastName</th>\n",
       "      <th>managerId</th>\n",
       "      <th>statusComment</th>\n",
       "      <th>additionalPhone</th>\n",
       "      <th>fullPaidAt</th>\n",
       "      <th>shipmentDate</th>\n",
       "      <th>customerComment</th>\n",
       "    </tr>\n",
       "  </thead>\n",
       "  <tbody>\n",
       "    <tr>\n",
       "      <th>0</th>\n",
       "      <td>1068925</td>\n",
       "      <td>0</td>\n",
       "      <td>0</td>\n",
       "      <td>1068925</td>\n",
       "      <td>1068925C</td>\n",
       "      <td>eshop-individual</td>\n",
       "      <td>none</td>\n",
       "      <td>RU</td>\n",
       "      <td>2023-11-23 14:54:43</td>\n",
       "      <td>2023-11-23 14:54:43</td>\n",
       "      <td>...</td>\n",
       "      <td>RUB</td>\n",
       "      <td>NaN</td>\n",
       "      <td>NaN</td>\n",
       "      <td>NaN</td>\n",
       "      <td>NaN</td>\n",
       "      <td>NaN</td>\n",
       "      <td>NaN</td>\n",
       "      <td>NaN</td>\n",
       "      <td>NaN</td>\n",
       "      <td>NaN</td>\n",
       "    </tr>\n",
       "    <tr>\n",
       "      <th>1</th>\n",
       "      <td>1068924</td>\n",
       "      <td>0</td>\n",
       "      <td>0</td>\n",
       "      <td>1068924</td>\n",
       "      <td>1068924C</td>\n",
       "      <td>eshop-individual</td>\n",
       "      <td>none</td>\n",
       "      <td>RU</td>\n",
       "      <td>2023-11-23 14:50:53</td>\n",
       "      <td>2023-11-23 14:50:53</td>\n",
       "      <td>...</td>\n",
       "      <td>RUB</td>\n",
       "      <td>NaN</td>\n",
       "      <td>NaN</td>\n",
       "      <td>NaN</td>\n",
       "      <td>NaN</td>\n",
       "      <td>NaN</td>\n",
       "      <td>NaN</td>\n",
       "      <td>NaN</td>\n",
       "      <td>NaN</td>\n",
       "      <td>NaN</td>\n",
       "    </tr>\n",
       "    <tr>\n",
       "      <th>2</th>\n",
       "      <td>1068923</td>\n",
       "      <td>0</td>\n",
       "      <td>0</td>\n",
       "      <td>1068923</td>\n",
       "      <td>1068923C</td>\n",
       "      <td>eshop-individual</td>\n",
       "      <td>none</td>\n",
       "      <td>RU</td>\n",
       "      <td>2023-11-23 14:43:03</td>\n",
       "      <td>2023-11-23 14:43:03</td>\n",
       "      <td>...</td>\n",
       "      <td>RUB</td>\n",
       "      <td>NaN</td>\n",
       "      <td>NaN</td>\n",
       "      <td>NaN</td>\n",
       "      <td>NaN</td>\n",
       "      <td>NaN</td>\n",
       "      <td>NaN</td>\n",
       "      <td>NaN</td>\n",
       "      <td>NaN</td>\n",
       "      <td>NaN</td>\n",
       "    </tr>\n",
       "    <tr>\n",
       "      <th>3</th>\n",
       "      <td>1068921</td>\n",
       "      <td>0</td>\n",
       "      <td>0</td>\n",
       "      <td>1068921</td>\n",
       "      <td>1068921C</td>\n",
       "      <td>eshop-individual</td>\n",
       "      <td>none</td>\n",
       "      <td>RU</td>\n",
       "      <td>2023-11-23 14:22:00</td>\n",
       "      <td>2023-11-23 14:22:00</td>\n",
       "      <td>...</td>\n",
       "      <td>RUB</td>\n",
       "      <td>NaN</td>\n",
       "      <td>NaN</td>\n",
       "      <td>NaN</td>\n",
       "      <td>NaN</td>\n",
       "      <td>NaN</td>\n",
       "      <td>NaN</td>\n",
       "      <td>NaN</td>\n",
       "      <td>NaN</td>\n",
       "      <td>NaN</td>\n",
       "    </tr>\n",
       "    <tr>\n",
       "      <th>4</th>\n",
       "      <td>1068913</td>\n",
       "      <td>0</td>\n",
       "      <td>0</td>\n",
       "      <td>1068913</td>\n",
       "      <td>1068913C</td>\n",
       "      <td>eshop-individual</td>\n",
       "      <td>none</td>\n",
       "      <td>RU</td>\n",
       "      <td>2023-11-23 11:36:50</td>\n",
       "      <td>2023-11-23 11:36:50</td>\n",
       "      <td>...</td>\n",
       "      <td>RUB</td>\n",
       "      <td>NaN</td>\n",
       "      <td>NaN</td>\n",
       "      <td>NaN</td>\n",
       "      <td>NaN</td>\n",
       "      <td>NaN</td>\n",
       "      <td>NaN</td>\n",
       "      <td>NaN</td>\n",
       "      <td>NaN</td>\n",
       "      <td>NaN</td>\n",
       "    </tr>\n",
       "  </tbody>\n",
       "</table>\n",
       "<p>5 rows × 46 columns</p>\n",
       "</div>"
      ],
      "text/plain": [
       "      slug  bonusesCreditTotal  bonusesChargeTotal       id    number  \\\n",
       "0  1068925                   0                   0  1068925  1068925C   \n",
       "1  1068924                   0                   0  1068924  1068924C   \n",
       "2  1068923                   0                   0  1068923  1068923C   \n",
       "3  1068921                   0                   0  1068921  1068921C   \n",
       "4  1068913                   0                   0  1068913  1068913C   \n",
       "\n",
       "          orderType privilegeType countryIso            createdAt  \\\n",
       "0  eshop-individual          none         RU  2023-11-23 14:54:43   \n",
       "1  eshop-individual          none         RU  2023-11-23 14:50:53   \n",
       "2  eshop-individual          none         RU  2023-11-23 14:43:03   \n",
       "3  eshop-individual          none         RU  2023-11-23 14:22:00   \n",
       "4  eshop-individual          none         RU  2023-11-23 11:36:50   \n",
       "\n",
       "       statusUpdatedAt  ...  currency  externalId  orderMethod  lastName  \\\n",
       "0  2023-11-23 14:54:43  ...       RUB         NaN          NaN       NaN   \n",
       "1  2023-11-23 14:50:53  ...       RUB         NaN          NaN       NaN   \n",
       "2  2023-11-23 14:43:03  ...       RUB         NaN          NaN       NaN   \n",
       "3  2023-11-23 14:22:00  ...       RUB         NaN          NaN       NaN   \n",
       "4  2023-11-23 11:36:50  ...       RUB         NaN          NaN       NaN   \n",
       "\n",
       "  managerId statusComment additionalPhone fullPaidAt  shipmentDate  \\\n",
       "0       NaN           NaN             NaN        NaN           NaN   \n",
       "1       NaN           NaN             NaN        NaN           NaN   \n",
       "2       NaN           NaN             NaN        NaN           NaN   \n",
       "3       NaN           NaN             NaN        NaN           NaN   \n",
       "4       NaN           NaN             NaN        NaN           NaN   \n",
       "\n",
       "   customerComment  \n",
       "0              NaN  \n",
       "1              NaN  \n",
       "2              NaN  \n",
       "3              NaN  \n",
       "4              NaN  \n",
       "\n",
       "[5 rows x 46 columns]"
      ]
     },
     "execution_count": 10,
     "metadata": {},
     "output_type": "execute_result"
    }
   ],
   "source": [
    "df.head(5)"
   ]
  },
  {
   "cell_type": "code",
   "execution_count": 11,
   "id": "24a9dbcc",
   "metadata": {
    "scrolled": false
   },
   "outputs": [
    {
     "name": "stdout",
     "output_type": "stream",
     "text": [
      "<class 'pandas.core.frame.DataFrame'>\n",
      "RangeIndex: 20 entries, 0 to 19\n",
      "Data columns (total 46 columns):\n",
      " #   Column              Non-Null Count  Dtype  \n",
      "---  ------              --------------  -----  \n",
      " 0   slug                20 non-null     int64  \n",
      " 1   bonusesCreditTotal  20 non-null     int64  \n",
      " 2   bonusesChargeTotal  20 non-null     int64  \n",
      " 3   id                  20 non-null     int64  \n",
      " 4   number              20 non-null     object \n",
      " 5   orderType           20 non-null     object \n",
      " 6   privilegeType       20 non-null     object \n",
      " 7   countryIso          20 non-null     object \n",
      " 8   createdAt           20 non-null     object \n",
      " 9   statusUpdatedAt     20 non-null     object \n",
      " 10  summ                20 non-null     int64  \n",
      " 11  totalSumm           20 non-null     int64  \n",
      " 12  prepaySum           20 non-null     int64  \n",
      " 13  purchaseSumm        20 non-null     int64  \n",
      " 14  markDatetime        20 non-null     object \n",
      " 15  firstName           20 non-null     object \n",
      " 16  phone               14 non-null     object \n",
      " 17  email               14 non-null     object \n",
      " 18  call                20 non-null     bool   \n",
      " 19  expired             20 non-null     bool   \n",
      " 20  customer            20 non-null     object \n",
      " 21  contact             20 non-null     object \n",
      " 22  contragent          20 non-null     object \n",
      " 23  delivery            20 non-null     object \n",
      " 24  site                20 non-null     object \n",
      " 25  status              20 non-null     object \n",
      " 26  items               20 non-null     object \n",
      " 27  payments            20 non-null     object \n",
      " 28  fromApi             20 non-null     bool   \n",
      " 29  weight              16 non-null     float64\n",
      " 30  length              16 non-null     float64\n",
      " 31  width               16 non-null     float64\n",
      " 32  height              16 non-null     float64\n",
      " 33  shipmentStore       20 non-null     object \n",
      " 34  shipped             20 non-null     bool   \n",
      " 35  customFields        20 non-null     object \n",
      " 36  currency            20 non-null     object \n",
      " 37  externalId          8 non-null      object \n",
      " 38  orderMethod         10 non-null     object \n",
      " 39  lastName            9 non-null      object \n",
      " 40  managerId           6 non-null      float64\n",
      " 41  statusComment       3 non-null      object \n",
      " 42  additionalPhone     3 non-null      object \n",
      " 43  fullPaidAt          6 non-null      object \n",
      " 44  shipmentDate        7 non-null      object \n",
      " 45  customerComment     2 non-null      object \n",
      "dtypes: bool(4), float64(5), int64(8), object(29)\n",
      "memory usage: 6.8+ KB\n"
     ]
    }
   ],
   "source": [
    "# информация по базе данных\n",
    "df.info()"
   ]
  },
  {
   "cell_type": "code",
   "execution_count": 12,
   "id": "0e9b6e14",
   "metadata": {
    "scrolled": true
   },
   "outputs": [],
   "source": [
    "# Переберем первые 7 страниц бызы retailcrm\n",
    "for p in range(2, 8):\n",
    "    # создадим get запрос из базы retailcrm\n",
    "    res = requests.get(url=URL_GET, headers=headers, params={\"page\" : p})\n",
    "    data = res.json()\n",
    "    # оставим из списка только вложенный список orders\n",
    "    df_current = pd.DataFrame(data[\"orders\"])\n",
    "    # объединим в одну базу запрошенные страницы\n",
    "    df = pd.concat([df, df_current])"
   ]
  },
  {
   "cell_type": "code",
   "execution_count": 13,
   "id": "dfd5b18d",
   "metadata": {
    "scrolled": false
   },
   "outputs": [
    {
     "data": {
      "text/html": [
       "<div>\n",
       "<style scoped>\n",
       "    .dataframe tbody tr th:only-of-type {\n",
       "        vertical-align: middle;\n",
       "    }\n",
       "\n",
       "    .dataframe tbody tr th {\n",
       "        vertical-align: top;\n",
       "    }\n",
       "\n",
       "    .dataframe thead th {\n",
       "        text-align: right;\n",
       "    }\n",
       "</style>\n",
       "<table border=\"1\" class=\"dataframe\">\n",
       "  <thead>\n",
       "    <tr style=\"text-align: right;\">\n",
       "      <th></th>\n",
       "      <th>slug</th>\n",
       "      <th>bonusesCreditTotal</th>\n",
       "      <th>bonusesChargeTotal</th>\n",
       "      <th>id</th>\n",
       "      <th>number</th>\n",
       "      <th>orderType</th>\n",
       "      <th>privilegeType</th>\n",
       "      <th>countryIso</th>\n",
       "      <th>createdAt</th>\n",
       "      <th>statusUpdatedAt</th>\n",
       "      <th>...</th>\n",
       "      <th>orderMethod</th>\n",
       "      <th>lastName</th>\n",
       "      <th>managerId</th>\n",
       "      <th>statusComment</th>\n",
       "      <th>additionalPhone</th>\n",
       "      <th>fullPaidAt</th>\n",
       "      <th>shipmentDate</th>\n",
       "      <th>customerComment</th>\n",
       "      <th>patronymic</th>\n",
       "      <th>managerComment</th>\n",
       "    </tr>\n",
       "  </thead>\n",
       "  <tbody>\n",
       "    <tr>\n",
       "      <th>0</th>\n",
       "      <td>1068925</td>\n",
       "      <td>0</td>\n",
       "      <td>0</td>\n",
       "      <td>1068925</td>\n",
       "      <td>1068925C</td>\n",
       "      <td>eshop-individual</td>\n",
       "      <td>none</td>\n",
       "      <td>RU</td>\n",
       "      <td>2023-11-23 14:54:43</td>\n",
       "      <td>2023-11-23 14:54:43</td>\n",
       "      <td>...</td>\n",
       "      <td>NaN</td>\n",
       "      <td>NaN</td>\n",
       "      <td>NaN</td>\n",
       "      <td>NaN</td>\n",
       "      <td>NaN</td>\n",
       "      <td>NaN</td>\n",
       "      <td>NaN</td>\n",
       "      <td>NaN</td>\n",
       "      <td>NaN</td>\n",
       "      <td>NaN</td>\n",
       "    </tr>\n",
       "    <tr>\n",
       "      <th>1</th>\n",
       "      <td>1068924</td>\n",
       "      <td>0</td>\n",
       "      <td>0</td>\n",
       "      <td>1068924</td>\n",
       "      <td>1068924C</td>\n",
       "      <td>eshop-individual</td>\n",
       "      <td>none</td>\n",
       "      <td>RU</td>\n",
       "      <td>2023-11-23 14:50:53</td>\n",
       "      <td>2023-11-23 14:50:53</td>\n",
       "      <td>...</td>\n",
       "      <td>NaN</td>\n",
       "      <td>NaN</td>\n",
       "      <td>NaN</td>\n",
       "      <td>NaN</td>\n",
       "      <td>NaN</td>\n",
       "      <td>NaN</td>\n",
       "      <td>NaN</td>\n",
       "      <td>NaN</td>\n",
       "      <td>NaN</td>\n",
       "      <td>NaN</td>\n",
       "    </tr>\n",
       "    <tr>\n",
       "      <th>2</th>\n",
       "      <td>1068923</td>\n",
       "      <td>0</td>\n",
       "      <td>0</td>\n",
       "      <td>1068923</td>\n",
       "      <td>1068923C</td>\n",
       "      <td>eshop-individual</td>\n",
       "      <td>none</td>\n",
       "      <td>RU</td>\n",
       "      <td>2023-11-23 14:43:03</td>\n",
       "      <td>2023-11-23 14:43:03</td>\n",
       "      <td>...</td>\n",
       "      <td>NaN</td>\n",
       "      <td>NaN</td>\n",
       "      <td>NaN</td>\n",
       "      <td>NaN</td>\n",
       "      <td>NaN</td>\n",
       "      <td>NaN</td>\n",
       "      <td>NaN</td>\n",
       "      <td>NaN</td>\n",
       "      <td>NaN</td>\n",
       "      <td>NaN</td>\n",
       "    </tr>\n",
       "    <tr>\n",
       "      <th>3</th>\n",
       "      <td>1068921</td>\n",
       "      <td>0</td>\n",
       "      <td>0</td>\n",
       "      <td>1068921</td>\n",
       "      <td>1068921C</td>\n",
       "      <td>eshop-individual</td>\n",
       "      <td>none</td>\n",
       "      <td>RU</td>\n",
       "      <td>2023-11-23 14:22:00</td>\n",
       "      <td>2023-11-23 14:22:00</td>\n",
       "      <td>...</td>\n",
       "      <td>NaN</td>\n",
       "      <td>NaN</td>\n",
       "      <td>NaN</td>\n",
       "      <td>NaN</td>\n",
       "      <td>NaN</td>\n",
       "      <td>NaN</td>\n",
       "      <td>NaN</td>\n",
       "      <td>NaN</td>\n",
       "      <td>NaN</td>\n",
       "      <td>NaN</td>\n",
       "    </tr>\n",
       "    <tr>\n",
       "      <th>4</th>\n",
       "      <td>1068913</td>\n",
       "      <td>0</td>\n",
       "      <td>0</td>\n",
       "      <td>1068913</td>\n",
       "      <td>1068913C</td>\n",
       "      <td>eshop-individual</td>\n",
       "      <td>none</td>\n",
       "      <td>RU</td>\n",
       "      <td>2023-11-23 11:36:50</td>\n",
       "      <td>2023-11-23 11:36:50</td>\n",
       "      <td>...</td>\n",
       "      <td>NaN</td>\n",
       "      <td>NaN</td>\n",
       "      <td>NaN</td>\n",
       "      <td>NaN</td>\n",
       "      <td>NaN</td>\n",
       "      <td>NaN</td>\n",
       "      <td>NaN</td>\n",
       "      <td>NaN</td>\n",
       "      <td>NaN</td>\n",
       "      <td>NaN</td>\n",
       "    </tr>\n",
       "  </tbody>\n",
       "</table>\n",
       "<p>5 rows × 48 columns</p>\n",
       "</div>"
      ],
      "text/plain": [
       "      slug  bonusesCreditTotal  bonusesChargeTotal       id    number  \\\n",
       "0  1068925                   0                   0  1068925  1068925C   \n",
       "1  1068924                   0                   0  1068924  1068924C   \n",
       "2  1068923                   0                   0  1068923  1068923C   \n",
       "3  1068921                   0                   0  1068921  1068921C   \n",
       "4  1068913                   0                   0  1068913  1068913C   \n",
       "\n",
       "          orderType privilegeType countryIso            createdAt  \\\n",
       "0  eshop-individual          none         RU  2023-11-23 14:54:43   \n",
       "1  eshop-individual          none         RU  2023-11-23 14:50:53   \n",
       "2  eshop-individual          none         RU  2023-11-23 14:43:03   \n",
       "3  eshop-individual          none         RU  2023-11-23 14:22:00   \n",
       "4  eshop-individual          none         RU  2023-11-23 11:36:50   \n",
       "\n",
       "       statusUpdatedAt  ...  orderMethod  lastName  managerId  statusComment  \\\n",
       "0  2023-11-23 14:54:43  ...          NaN       NaN        NaN            NaN   \n",
       "1  2023-11-23 14:50:53  ...          NaN       NaN        NaN            NaN   \n",
       "2  2023-11-23 14:43:03  ...          NaN       NaN        NaN            NaN   \n",
       "3  2023-11-23 14:22:00  ...          NaN       NaN        NaN            NaN   \n",
       "4  2023-11-23 11:36:50  ...          NaN       NaN        NaN            NaN   \n",
       "\n",
       "  additionalPhone fullPaidAt shipmentDate customerComment  patronymic  \\\n",
       "0             NaN        NaN          NaN             NaN         NaN   \n",
       "1             NaN        NaN          NaN             NaN         NaN   \n",
       "2             NaN        NaN          NaN             NaN         NaN   \n",
       "3             NaN        NaN          NaN             NaN         NaN   \n",
       "4             NaN        NaN          NaN             NaN         NaN   \n",
       "\n",
       "   managerComment  \n",
       "0             NaN  \n",
       "1             NaN  \n",
       "2             NaN  \n",
       "3             NaN  \n",
       "4             NaN  \n",
       "\n",
       "[5 rows x 48 columns]"
      ]
     },
     "execution_count": 13,
     "metadata": {},
     "output_type": "execute_result"
    }
   ],
   "source": [
    "df.head(5)"
   ]
  },
  {
   "cell_type": "code",
   "execution_count": 14,
   "id": "5211fc27",
   "metadata": {
    "scrolled": true
   },
   "outputs": [],
   "source": [
    "#df.tail(5)"
   ]
  },
  {
   "cell_type": "code",
   "execution_count": 15,
   "id": "57e0caaf",
   "metadata": {
    "scrolled": true
   },
   "outputs": [],
   "source": [
    "# создадим фукцию для вывода общей инфрмации по таблице целиком\n",
    "def tab_info(df_x, name):\n",
    "# получение первых строк таблицы df\n",
    "    print('Первые строки таблицы', name)\n",
    "    try:\n",
    "        display(df_x.head(10))\n",
    "    except:\n",
    "        display(df_x.head(2))\n",
    "# получение случайных строк таблицы df\n",
    "    print('Cлучайные строки таблицы', name)\n",
    "    try:\n",
    "        display(df_x.sample(10))\n",
    "    except:\n",
    "        display(df_x.sample(2))\n",
    "# получение последних строк таблицы df\n",
    "    print('Последние строки таблицы', name)\n",
    "    try:\n",
    "        display(df_x.tail(10))\n",
    "    except:\n",
    "        display(df_x.tail(2))\n",
    "# получение cводной информации по параметрам данных\n",
    "    print('Сводная информация по параметрам данных', name)\n",
    "    display(df_x.describe().round(2))\n",
    "# подсчет количества отсутствующих значений\n",
    "    print('Количество отсутствующих значений', name)\n",
    "    display(df_x.isna().sum())\n",
    "# подсчет доли отсутствующих значений с округлением\n",
    "    print('Доли отсутствующих значений с округлением', name)\n",
    "    display(round(df_x.isna().sum() * 100 / len(df_x), 2))\n",
    "# подсчет количества задублированных записей\n",
    "    print('Задублированных записей', name)\n",
    "    display(df_x.duplicated().sum())    \n",
    "# получение общей информации о данных в таблице\n",
    "    print('Общая информация о данных в таблице', name)\n",
    "    display(df_x.info())"
   ]
  },
  {
   "cell_type": "code",
   "execution_count": 16,
   "id": "4b3fce3f",
   "metadata": {},
   "outputs": [],
   "source": [
    "# для анализа оставим несколько столбцов: ID заказа, Тип заказа,\n",
    "# Дата оформления заказа, Общая сумма с учетом скидки (в валюте объекта)\n",
    "df_1 = df[['id', 'orderType', 'createdAt', 'totalSumm']]"
   ]
  },
  {
   "cell_type": "code",
   "execution_count": 17,
   "id": "370879ab",
   "metadata": {
    "scrolled": false
   },
   "outputs": [
    {
     "name": "stdout",
     "output_type": "stream",
     "text": [
      "Первые строки таблицы df последние 7 страниц RetailCRM\n"
     ]
    },
    {
     "data": {
      "text/html": [
       "<div>\n",
       "<style scoped>\n",
       "    .dataframe tbody tr th:only-of-type {\n",
       "        vertical-align: middle;\n",
       "    }\n",
       "\n",
       "    .dataframe tbody tr th {\n",
       "        vertical-align: top;\n",
       "    }\n",
       "\n",
       "    .dataframe thead th {\n",
       "        text-align: right;\n",
       "    }\n",
       "</style>\n",
       "<table border=\"1\" class=\"dataframe\">\n",
       "  <thead>\n",
       "    <tr style=\"text-align: right;\">\n",
       "      <th></th>\n",
       "      <th>id</th>\n",
       "      <th>orderType</th>\n",
       "      <th>createdAt</th>\n",
       "      <th>totalSumm</th>\n",
       "    </tr>\n",
       "  </thead>\n",
       "  <tbody>\n",
       "    <tr>\n",
       "      <th>0</th>\n",
       "      <td>1068925</td>\n",
       "      <td>eshop-individual</td>\n",
       "      <td>2023-11-23 14:54:43</td>\n",
       "      <td>0</td>\n",
       "    </tr>\n",
       "    <tr>\n",
       "      <th>1</th>\n",
       "      <td>1068924</td>\n",
       "      <td>eshop-individual</td>\n",
       "      <td>2023-11-23 14:50:53</td>\n",
       "      <td>0</td>\n",
       "    </tr>\n",
       "    <tr>\n",
       "      <th>2</th>\n",
       "      <td>1068923</td>\n",
       "      <td>eshop-individual</td>\n",
       "      <td>2023-11-23 14:43:03</td>\n",
       "      <td>0</td>\n",
       "    </tr>\n",
       "    <tr>\n",
       "      <th>3</th>\n",
       "      <td>1068921</td>\n",
       "      <td>eshop-individual</td>\n",
       "      <td>2023-11-23 14:22:00</td>\n",
       "      <td>0</td>\n",
       "    </tr>\n",
       "    <tr>\n",
       "      <th>4</th>\n",
       "      <td>1068913</td>\n",
       "      <td>eshop-individual</td>\n",
       "      <td>2023-11-23 11:36:50</td>\n",
       "      <td>0</td>\n",
       "    </tr>\n",
       "    <tr>\n",
       "      <th>5</th>\n",
       "      <td>1068910</td>\n",
       "      <td>eshop-individual</td>\n",
       "      <td>2023-11-23 11:11:44</td>\n",
       "      <td>0</td>\n",
       "    </tr>\n",
       "    <tr>\n",
       "      <th>6</th>\n",
       "      <td>1068907</td>\n",
       "      <td>eshop-individual</td>\n",
       "      <td>2023-11-23 08:57:08</td>\n",
       "      <td>1518</td>\n",
       "    </tr>\n",
       "    <tr>\n",
       "      <th>7</th>\n",
       "      <td>1068906</td>\n",
       "      <td>eshop-individual</td>\n",
       "      <td>2023-11-23 05:57:48</td>\n",
       "      <td>870</td>\n",
       "    </tr>\n",
       "    <tr>\n",
       "      <th>8</th>\n",
       "      <td>1068905</td>\n",
       "      <td>eshop-individual</td>\n",
       "      <td>2023-11-23 00:09:24</td>\n",
       "      <td>1501</td>\n",
       "    </tr>\n",
       "    <tr>\n",
       "      <th>9</th>\n",
       "      <td>1068904</td>\n",
       "      <td>eshop-individual</td>\n",
       "      <td>2023-11-22 23:57:27</td>\n",
       "      <td>1888</td>\n",
       "    </tr>\n",
       "  </tbody>\n",
       "</table>\n",
       "</div>"
      ],
      "text/plain": [
       "        id         orderType            createdAt  totalSumm\n",
       "0  1068925  eshop-individual  2023-11-23 14:54:43          0\n",
       "1  1068924  eshop-individual  2023-11-23 14:50:53          0\n",
       "2  1068923  eshop-individual  2023-11-23 14:43:03          0\n",
       "3  1068921  eshop-individual  2023-11-23 14:22:00          0\n",
       "4  1068913  eshop-individual  2023-11-23 11:36:50          0\n",
       "5  1068910  eshop-individual  2023-11-23 11:11:44          0\n",
       "6  1068907  eshop-individual  2023-11-23 08:57:08       1518\n",
       "7  1068906  eshop-individual  2023-11-23 05:57:48        870\n",
       "8  1068905  eshop-individual  2023-11-23 00:09:24       1501\n",
       "9  1068904  eshop-individual  2023-11-22 23:57:27       1888"
      ]
     },
     "metadata": {},
     "output_type": "display_data"
    },
    {
     "name": "stdout",
     "output_type": "stream",
     "text": [
      "Cлучайные строки таблицы df последние 7 страниц RetailCRM\n"
     ]
    },
    {
     "data": {
      "text/html": [
       "<div>\n",
       "<style scoped>\n",
       "    .dataframe tbody tr th:only-of-type {\n",
       "        vertical-align: middle;\n",
       "    }\n",
       "\n",
       "    .dataframe tbody tr th {\n",
       "        vertical-align: top;\n",
       "    }\n",
       "\n",
       "    .dataframe thead th {\n",
       "        text-align: right;\n",
       "    }\n",
       "</style>\n",
       "<table border=\"1\" class=\"dataframe\">\n",
       "  <thead>\n",
       "    <tr style=\"text-align: right;\">\n",
       "      <th></th>\n",
       "      <th>id</th>\n",
       "      <th>orderType</th>\n",
       "      <th>createdAt</th>\n",
       "      <th>totalSumm</th>\n",
       "    </tr>\n",
       "  </thead>\n",
       "  <tbody>\n",
       "    <tr>\n",
       "      <th>5</th>\n",
       "      <td>1068910</td>\n",
       "      <td>eshop-individual</td>\n",
       "      <td>2023-11-23 11:11:44</td>\n",
       "      <td>0</td>\n",
       "    </tr>\n",
       "    <tr>\n",
       "      <th>10</th>\n",
       "      <td>1068803</td>\n",
       "      <td>eshop-individual</td>\n",
       "      <td>2023-11-18 21:40:41</td>\n",
       "      <td>1657</td>\n",
       "    </tr>\n",
       "    <tr>\n",
       "      <th>15</th>\n",
       "      <td>1068797</td>\n",
       "      <td>eshop-individual</td>\n",
       "      <td>2023-11-18 11:13:48</td>\n",
       "      <td>1268</td>\n",
       "    </tr>\n",
       "    <tr>\n",
       "      <th>1</th>\n",
       "      <td>1068782</td>\n",
       "      <td>eshop-individual</td>\n",
       "      <td>2023-11-17 16:43:37</td>\n",
       "      <td>1768</td>\n",
       "    </tr>\n",
       "    <tr>\n",
       "      <th>3</th>\n",
       "      <td>1068721</td>\n",
       "      <td>eshop-individual</td>\n",
       "      <td>2023-11-16 07:47:08</td>\n",
       "      <td>2355</td>\n",
       "    </tr>\n",
       "    <tr>\n",
       "      <th>1</th>\n",
       "      <td>1068817</td>\n",
       "      <td>eshop-individual</td>\n",
       "      <td>2023-11-20 10:50:58</td>\n",
       "      <td>783</td>\n",
       "    </tr>\n",
       "    <tr>\n",
       "      <th>18</th>\n",
       "      <td>1068883</td>\n",
       "      <td>eshop-individual</td>\n",
       "      <td>2023-11-21 20:42:21</td>\n",
       "      <td>842</td>\n",
       "    </tr>\n",
       "    <tr>\n",
       "      <th>11</th>\n",
       "      <td>1068802</td>\n",
       "      <td>eshop-individual</td>\n",
       "      <td>2023-11-18 20:59:26</td>\n",
       "      <td>1029</td>\n",
       "    </tr>\n",
       "    <tr>\n",
       "      <th>7</th>\n",
       "      <td>1068564</td>\n",
       "      <td>eshop-individual</td>\n",
       "      <td>2023-11-10 01:00:36</td>\n",
       "      <td>1230</td>\n",
       "    </tr>\n",
       "    <tr>\n",
       "      <th>7</th>\n",
       "      <td>1068713</td>\n",
       "      <td>eshop-individual</td>\n",
       "      <td>2023-11-15 16:27:11</td>\n",
       "      <td>0</td>\n",
       "    </tr>\n",
       "  </tbody>\n",
       "</table>\n",
       "</div>"
      ],
      "text/plain": [
       "         id         orderType            createdAt  totalSumm\n",
       "5   1068910  eshop-individual  2023-11-23 11:11:44          0\n",
       "10  1068803  eshop-individual  2023-11-18 21:40:41       1657\n",
       "15  1068797  eshop-individual  2023-11-18 11:13:48       1268\n",
       "1   1068782  eshop-individual  2023-11-17 16:43:37       1768\n",
       "3   1068721  eshop-individual  2023-11-16 07:47:08       2355\n",
       "1   1068817  eshop-individual  2023-11-20 10:50:58        783\n",
       "18  1068883  eshop-individual  2023-11-21 20:42:21        842\n",
       "11  1068802  eshop-individual  2023-11-18 20:59:26       1029\n",
       "7   1068564  eshop-individual  2023-11-10 01:00:36       1230\n",
       "7   1068713  eshop-individual  2023-11-15 16:27:11          0"
      ]
     },
     "metadata": {},
     "output_type": "display_data"
    },
    {
     "name": "stdout",
     "output_type": "stream",
     "text": [
      "Последние строки таблицы df последние 7 страниц RetailCRM\n"
     ]
    },
    {
     "data": {
      "text/html": [
       "<div>\n",
       "<style scoped>\n",
       "    .dataframe tbody tr th:only-of-type {\n",
       "        vertical-align: middle;\n",
       "    }\n",
       "\n",
       "    .dataframe tbody tr th {\n",
       "        vertical-align: top;\n",
       "    }\n",
       "\n",
       "    .dataframe thead th {\n",
       "        text-align: right;\n",
       "    }\n",
       "</style>\n",
       "<table border=\"1\" class=\"dataframe\">\n",
       "  <thead>\n",
       "    <tr style=\"text-align: right;\">\n",
       "      <th></th>\n",
       "      <th>id</th>\n",
       "      <th>orderType</th>\n",
       "      <th>createdAt</th>\n",
       "      <th>totalSumm</th>\n",
       "    </tr>\n",
       "  </thead>\n",
       "  <tbody>\n",
       "    <tr>\n",
       "      <th>10</th>\n",
       "      <td>1068548</td>\n",
       "      <td>eshop-individual</td>\n",
       "      <td>2023-11-09 14:12:46</td>\n",
       "      <td>1011</td>\n",
       "    </tr>\n",
       "    <tr>\n",
       "      <th>11</th>\n",
       "      <td>1068533</td>\n",
       "      <td>eshop-individual</td>\n",
       "      <td>2023-11-09 10:34:57</td>\n",
       "      <td>1198</td>\n",
       "    </tr>\n",
       "    <tr>\n",
       "      <th>12</th>\n",
       "      <td>1068531</td>\n",
       "      <td>eshop-individual</td>\n",
       "      <td>2023-11-08 22:26:17</td>\n",
       "      <td>2840</td>\n",
       "    </tr>\n",
       "    <tr>\n",
       "      <th>13</th>\n",
       "      <td>1068530</td>\n",
       "      <td>eshop-individual</td>\n",
       "      <td>2023-11-08 21:05:32</td>\n",
       "      <td>1569</td>\n",
       "    </tr>\n",
       "    <tr>\n",
       "      <th>14</th>\n",
       "      <td>1068529</td>\n",
       "      <td>eshop-individual</td>\n",
       "      <td>2023-11-08 20:20:51</td>\n",
       "      <td>1305</td>\n",
       "    </tr>\n",
       "    <tr>\n",
       "      <th>15</th>\n",
       "      <td>1068519</td>\n",
       "      <td>eshop-individual</td>\n",
       "      <td>2023-11-08 16:00:27</td>\n",
       "      <td>1027</td>\n",
       "    </tr>\n",
       "    <tr>\n",
       "      <th>16</th>\n",
       "      <td>1068507</td>\n",
       "      <td>eshop-individual</td>\n",
       "      <td>2023-11-08 12:17:30</td>\n",
       "      <td>819</td>\n",
       "    </tr>\n",
       "    <tr>\n",
       "      <th>17</th>\n",
       "      <td>1068498</td>\n",
       "      <td>eshop-individual</td>\n",
       "      <td>2023-11-07 22:24:48</td>\n",
       "      <td>4099</td>\n",
       "    </tr>\n",
       "    <tr>\n",
       "      <th>18</th>\n",
       "      <td>1068486</td>\n",
       "      <td>eshop-individual</td>\n",
       "      <td>2023-11-07 14:31:10</td>\n",
       "      <td>0</td>\n",
       "    </tr>\n",
       "    <tr>\n",
       "      <th>19</th>\n",
       "      <td>1068475</td>\n",
       "      <td>eshop-individual</td>\n",
       "      <td>2023-11-07 10:54:49</td>\n",
       "      <td>1382</td>\n",
       "    </tr>\n",
       "  </tbody>\n",
       "</table>\n",
       "</div>"
      ],
      "text/plain": [
       "         id         orderType            createdAt  totalSumm\n",
       "10  1068548  eshop-individual  2023-11-09 14:12:46       1011\n",
       "11  1068533  eshop-individual  2023-11-09 10:34:57       1198\n",
       "12  1068531  eshop-individual  2023-11-08 22:26:17       2840\n",
       "13  1068530  eshop-individual  2023-11-08 21:05:32       1569\n",
       "14  1068529  eshop-individual  2023-11-08 20:20:51       1305\n",
       "15  1068519  eshop-individual  2023-11-08 16:00:27       1027\n",
       "16  1068507  eshop-individual  2023-11-08 12:17:30        819\n",
       "17  1068498  eshop-individual  2023-11-07 22:24:48       4099\n",
       "18  1068486  eshop-individual  2023-11-07 14:31:10          0\n",
       "19  1068475  eshop-individual  2023-11-07 10:54:49       1382"
      ]
     },
     "metadata": {},
     "output_type": "display_data"
    },
    {
     "name": "stdout",
     "output_type": "stream",
     "text": [
      "Сводная информация по параметрам данных df последние 7 страниц RetailCRM\n"
     ]
    },
    {
     "data": {
      "text/html": [
       "<div>\n",
       "<style scoped>\n",
       "    .dataframe tbody tr th:only-of-type {\n",
       "        vertical-align: middle;\n",
       "    }\n",
       "\n",
       "    .dataframe tbody tr th {\n",
       "        vertical-align: top;\n",
       "    }\n",
       "\n",
       "    .dataframe thead th {\n",
       "        text-align: right;\n",
       "    }\n",
       "</style>\n",
       "<table border=\"1\" class=\"dataframe\">\n",
       "  <thead>\n",
       "    <tr style=\"text-align: right;\">\n",
       "      <th></th>\n",
       "      <th>id</th>\n",
       "      <th>totalSumm</th>\n",
       "    </tr>\n",
       "  </thead>\n",
       "  <tbody>\n",
       "    <tr>\n",
       "      <th>count</th>\n",
       "      <td>140.00</td>\n",
       "      <td>140.00</td>\n",
       "    </tr>\n",
       "    <tr>\n",
       "      <th>mean</th>\n",
       "      <td>1068740.94</td>\n",
       "      <td>1505.43</td>\n",
       "    </tr>\n",
       "    <tr>\n",
       "      <th>std</th>\n",
       "      <td>117.09</td>\n",
       "      <td>2291.06</td>\n",
       "    </tr>\n",
       "    <tr>\n",
       "      <th>min</th>\n",
       "      <td>1068475.00</td>\n",
       "      <td>0.00</td>\n",
       "    </tr>\n",
       "    <tr>\n",
       "      <th>25%</th>\n",
       "      <td>1068646.75</td>\n",
       "      <td>0.00</td>\n",
       "    </tr>\n",
       "    <tr>\n",
       "      <th>50%</th>\n",
       "      <td>1068753.50</td>\n",
       "      <td>1198.00</td>\n",
       "    </tr>\n",
       "    <tr>\n",
       "      <th>75%</th>\n",
       "      <td>1068837.25</td>\n",
       "      <td>1749.25</td>\n",
       "    </tr>\n",
       "    <tr>\n",
       "      <th>max</th>\n",
       "      <td>1068925.00</td>\n",
       "      <td>23879.00</td>\n",
       "    </tr>\n",
       "  </tbody>\n",
       "</table>\n",
       "</div>"
      ],
      "text/plain": [
       "               id  totalSumm\n",
       "count      140.00     140.00\n",
       "mean   1068740.94    1505.43\n",
       "std        117.09    2291.06\n",
       "min    1068475.00       0.00\n",
       "25%    1068646.75       0.00\n",
       "50%    1068753.50    1198.00\n",
       "75%    1068837.25    1749.25\n",
       "max    1068925.00   23879.00"
      ]
     },
     "metadata": {},
     "output_type": "display_data"
    },
    {
     "name": "stdout",
     "output_type": "stream",
     "text": [
      "Количество отсутствующих значений df последние 7 страниц RetailCRM\n"
     ]
    },
    {
     "data": {
      "text/plain": [
       "id           0\n",
       "orderType    0\n",
       "createdAt    0\n",
       "totalSumm    0\n",
       "dtype: int64"
      ]
     },
     "metadata": {},
     "output_type": "display_data"
    },
    {
     "name": "stdout",
     "output_type": "stream",
     "text": [
      "Доли отсутствующих значений с округлением df последние 7 страниц RetailCRM\n"
     ]
    },
    {
     "data": {
      "text/plain": [
       "id           0.0\n",
       "orderType    0.0\n",
       "createdAt    0.0\n",
       "totalSumm    0.0\n",
       "dtype: float64"
      ]
     },
     "metadata": {},
     "output_type": "display_data"
    },
    {
     "name": "stdout",
     "output_type": "stream",
     "text": [
      "Задублированных записей df последние 7 страниц RetailCRM\n"
     ]
    },
    {
     "data": {
      "text/plain": [
       "0"
      ]
     },
     "metadata": {},
     "output_type": "display_data"
    },
    {
     "name": "stdout",
     "output_type": "stream",
     "text": [
      "Общая информация о данных в таблице df последние 7 страниц RetailCRM\n",
      "<class 'pandas.core.frame.DataFrame'>\n",
      "Int64Index: 140 entries, 0 to 19\n",
      "Data columns (total 4 columns):\n",
      " #   Column     Non-Null Count  Dtype \n",
      "---  ------     --------------  ----- \n",
      " 0   id         140 non-null    int64 \n",
      " 1   orderType  140 non-null    object\n",
      " 2   createdAt  140 non-null    object\n",
      " 3   totalSumm  140 non-null    int64 \n",
      "dtypes: int64(2), object(2)\n",
      "memory usage: 5.5+ KB\n"
     ]
    },
    {
     "data": {
      "text/plain": [
       "None"
      ]
     },
     "metadata": {},
     "output_type": "display_data"
    }
   ],
   "source": [
    "# вывод общей инфрмации по таблице целиком\n",
    "tab_info(df_1, 'df последние 7 страниц RetailCRM')"
   ]
  },
  {
   "cell_type": "code",
   "execution_count": 18,
   "id": "851c2c99",
   "metadata": {
    "scrolled": true
   },
   "outputs": [],
   "source": [
    "# создадим фукцию для вывода инфрмации по столбцу таблицы для числовых данных (должно быть не менее 10 строк)\n",
    "def col_info_num(df_x, name):\n",
    "# выведем тип данных столбца\n",
    "    print('Тип данных', name)\n",
    "    display(df_x[name].dtypes)\n",
    "# анализ столбца методом подсчета уникальных значений и количества их упоминаний\n",
    "    print('Уникальные значения и количество их упоминаний в столбце', name)\n",
    "    display(df_x[name].value_counts())\n",
    "# посмотрим максимальные значения\n",
    "    print('Максимальные значения столбца', name)\n",
    "    display(df_x.nlargest(10, name))\n",
    "# получение случайных 10 строк\n",
    "    print('Cлучайные 10 строк')\n",
    "    display(df_x.sample(10))   \n",
    "# посмотрим минимальные значения\n",
    "    print('Минимальные значения столбца', name)\n",
    "    display(df_x.nsmallest(10, name))\n",
    "# проверим столбец на отрицательные значения    \n",
    "    print('Отрицательные значения столбца', name)\n",
    "    display(df_x.loc[df_x.loc[:,name] < 0][name].count())\n",
    "# подсчет отсутствующих значений\n",
    "    print('Отсутствующие значения', name)\n",
    "    display(df_x[name].isna().sum())\n",
    "# подсчет доли отсутствующих значений с округлением\n",
    "    print('Доли отсутствующих значений с округлением', name)\n",
    "    display(round(df_x[name].isna().sum() * 100 / len(df_x[name]), 2))\n",
    "# получение cводной информации по параметрам данных\n",
    "    print('Сводная информация по параметрам данных', name)\n",
    "    display(round(df_x[name].describe(), 2))\n",
    "# построим график распределения данных\n",
    "    print('График распределения данных', name)\n",
    "    plt.boxplot(x=df_x[name]);"
   ]
  },
  {
   "cell_type": "code",
   "execution_count": 19,
   "id": "38256e5c",
   "metadata": {},
   "outputs": [],
   "source": [
    "# создадим фукцию для вывода инфрмации по столбцу таблицы для не числовых данных (должно быть не менее 10 строк)\n",
    "def col_info_not_num(df_x, name):\n",
    "# выведем тип данных столбца\n",
    "    print('Тип данных', name)\n",
    "    display(df_x[name].dtypes)\n",
    "# анализ столбца методом подсчета уникальных значений и количества их упоминаний\n",
    "    print('Уникальные значения и количество их упоминаний в столбце', name)\n",
    "    display(df_x[name].value_counts())\n",
    "# получение случайных 10 строк\n",
    "    print('Cлучайные 10 строк')\n",
    "    display(df_x.sample(10))\n",
    "# подсчет отсутствующих значений\n",
    "    print('Отсутствующие значения', name)\n",
    "    display(df_x[name].isna().sum())\n",
    "# подсчет доли отсутствующих значений с округлением\n",
    "    print('Доли отсутствующих значений с округлением', name)\n",
    "    display(round(df_x[name].isna().sum() * 100 / len(df_x[name]), 2))"
   ]
  },
  {
   "cell_type": "code",
   "execution_count": 20,
   "id": "09fd7404",
   "metadata": {
    "scrolled": false
   },
   "outputs": [
    {
     "name": "stdout",
     "output_type": "stream",
     "text": [
      "Тип данных id\n"
     ]
    },
    {
     "data": {
      "text/plain": [
       "dtype('int64')"
      ]
     },
     "metadata": {},
     "output_type": "display_data"
    },
    {
     "name": "stdout",
     "output_type": "stream",
     "text": [
      "Уникальные значения и количество их упоминаний в столбце id\n"
     ]
    },
    {
     "data": {
      "text/plain": [
       "1068925    1\n",
       "1068681    1\n",
       "1068699    1\n",
       "1068693    1\n",
       "1068685    1\n",
       "          ..\n",
       "1068820    1\n",
       "1068825    1\n",
       "1068830    1\n",
       "1068832    1\n",
       "1068475    1\n",
       "Name: id, Length: 140, dtype: int64"
      ]
     },
     "metadata": {},
     "output_type": "display_data"
    },
    {
     "name": "stdout",
     "output_type": "stream",
     "text": [
      "Максимальные значения столбца id\n"
     ]
    },
    {
     "data": {
      "text/html": [
       "<div>\n",
       "<style scoped>\n",
       "    .dataframe tbody tr th:only-of-type {\n",
       "        vertical-align: middle;\n",
       "    }\n",
       "\n",
       "    .dataframe tbody tr th {\n",
       "        vertical-align: top;\n",
       "    }\n",
       "\n",
       "    .dataframe thead th {\n",
       "        text-align: right;\n",
       "    }\n",
       "</style>\n",
       "<table border=\"1\" class=\"dataframe\">\n",
       "  <thead>\n",
       "    <tr style=\"text-align: right;\">\n",
       "      <th></th>\n",
       "      <th>id</th>\n",
       "      <th>orderType</th>\n",
       "      <th>createdAt</th>\n",
       "      <th>totalSumm</th>\n",
       "    </tr>\n",
       "  </thead>\n",
       "  <tbody>\n",
       "    <tr>\n",
       "      <th>0</th>\n",
       "      <td>1068925</td>\n",
       "      <td>eshop-individual</td>\n",
       "      <td>2023-11-23 14:54:43</td>\n",
       "      <td>0</td>\n",
       "    </tr>\n",
       "    <tr>\n",
       "      <th>1</th>\n",
       "      <td>1068924</td>\n",
       "      <td>eshop-individual</td>\n",
       "      <td>2023-11-23 14:50:53</td>\n",
       "      <td>0</td>\n",
       "    </tr>\n",
       "    <tr>\n",
       "      <th>2</th>\n",
       "      <td>1068923</td>\n",
       "      <td>eshop-individual</td>\n",
       "      <td>2023-11-23 14:43:03</td>\n",
       "      <td>0</td>\n",
       "    </tr>\n",
       "    <tr>\n",
       "      <th>3</th>\n",
       "      <td>1068921</td>\n",
       "      <td>eshop-individual</td>\n",
       "      <td>2023-11-23 14:22:00</td>\n",
       "      <td>0</td>\n",
       "    </tr>\n",
       "    <tr>\n",
       "      <th>4</th>\n",
       "      <td>1068913</td>\n",
       "      <td>eshop-individual</td>\n",
       "      <td>2023-11-23 11:36:50</td>\n",
       "      <td>0</td>\n",
       "    </tr>\n",
       "    <tr>\n",
       "      <th>5</th>\n",
       "      <td>1068910</td>\n",
       "      <td>eshop-individual</td>\n",
       "      <td>2023-11-23 11:11:44</td>\n",
       "      <td>0</td>\n",
       "    </tr>\n",
       "    <tr>\n",
       "      <th>6</th>\n",
       "      <td>1068907</td>\n",
       "      <td>eshop-individual</td>\n",
       "      <td>2023-11-23 08:57:08</td>\n",
       "      <td>1518</td>\n",
       "    </tr>\n",
       "    <tr>\n",
       "      <th>7</th>\n",
       "      <td>1068906</td>\n",
       "      <td>eshop-individual</td>\n",
       "      <td>2023-11-23 05:57:48</td>\n",
       "      <td>870</td>\n",
       "    </tr>\n",
       "    <tr>\n",
       "      <th>8</th>\n",
       "      <td>1068905</td>\n",
       "      <td>eshop-individual</td>\n",
       "      <td>2023-11-23 00:09:24</td>\n",
       "      <td>1501</td>\n",
       "    </tr>\n",
       "    <tr>\n",
       "      <th>9</th>\n",
       "      <td>1068904</td>\n",
       "      <td>eshop-individual</td>\n",
       "      <td>2023-11-22 23:57:27</td>\n",
       "      <td>1888</td>\n",
       "    </tr>\n",
       "  </tbody>\n",
       "</table>\n",
       "</div>"
      ],
      "text/plain": [
       "        id         orderType            createdAt  totalSumm\n",
       "0  1068925  eshop-individual  2023-11-23 14:54:43          0\n",
       "1  1068924  eshop-individual  2023-11-23 14:50:53          0\n",
       "2  1068923  eshop-individual  2023-11-23 14:43:03          0\n",
       "3  1068921  eshop-individual  2023-11-23 14:22:00          0\n",
       "4  1068913  eshop-individual  2023-11-23 11:36:50          0\n",
       "5  1068910  eshop-individual  2023-11-23 11:11:44          0\n",
       "6  1068907  eshop-individual  2023-11-23 08:57:08       1518\n",
       "7  1068906  eshop-individual  2023-11-23 05:57:48        870\n",
       "8  1068905  eshop-individual  2023-11-23 00:09:24       1501\n",
       "9  1068904  eshop-individual  2023-11-22 23:57:27       1888"
      ]
     },
     "metadata": {},
     "output_type": "display_data"
    },
    {
     "name": "stdout",
     "output_type": "stream",
     "text": [
      "Cлучайные 10 строк\n"
     ]
    },
    {
     "data": {
      "text/html": [
       "<div>\n",
       "<style scoped>\n",
       "    .dataframe tbody tr th:only-of-type {\n",
       "        vertical-align: middle;\n",
       "    }\n",
       "\n",
       "    .dataframe tbody tr th {\n",
       "        vertical-align: top;\n",
       "    }\n",
       "\n",
       "    .dataframe thead th {\n",
       "        text-align: right;\n",
       "    }\n",
       "</style>\n",
       "<table border=\"1\" class=\"dataframe\">\n",
       "  <thead>\n",
       "    <tr style=\"text-align: right;\">\n",
       "      <th></th>\n",
       "      <th>id</th>\n",
       "      <th>orderType</th>\n",
       "      <th>createdAt</th>\n",
       "      <th>totalSumm</th>\n",
       "    </tr>\n",
       "  </thead>\n",
       "  <tbody>\n",
       "    <tr>\n",
       "      <th>1</th>\n",
       "      <td>1068599</td>\n",
       "      <td>eshop-individual</td>\n",
       "      <td>2023-11-11 17:10:12</td>\n",
       "      <td>569</td>\n",
       "    </tr>\n",
       "    <tr>\n",
       "      <th>0</th>\n",
       "      <td>1068783</td>\n",
       "      <td>eshop-individual</td>\n",
       "      <td>2023-11-17 16:45:15</td>\n",
       "      <td>0</td>\n",
       "    </tr>\n",
       "    <tr>\n",
       "      <th>1</th>\n",
       "      <td>1068924</td>\n",
       "      <td>eshop-individual</td>\n",
       "      <td>2023-11-23 14:50:53</td>\n",
       "      <td>0</td>\n",
       "    </tr>\n",
       "    <tr>\n",
       "      <th>3</th>\n",
       "      <td>1068769</td>\n",
       "      <td>eshop-individual</td>\n",
       "      <td>2023-11-17 12:44:47</td>\n",
       "      <td>0</td>\n",
       "    </tr>\n",
       "    <tr>\n",
       "      <th>3</th>\n",
       "      <td>1068862</td>\n",
       "      <td>eshop-individual</td>\n",
       "      <td>2023-11-21 13:06:07</td>\n",
       "      <td>470</td>\n",
       "    </tr>\n",
       "    <tr>\n",
       "      <th>19</th>\n",
       "      <td>1068787</td>\n",
       "      <td>eshop-individual</td>\n",
       "      <td>2023-11-17 23:03:08</td>\n",
       "      <td>1663</td>\n",
       "    </tr>\n",
       "    <tr>\n",
       "      <th>14</th>\n",
       "      <td>1068889</td>\n",
       "      <td>eshop-individual</td>\n",
       "      <td>2023-11-22 11:27:19</td>\n",
       "      <td>1382</td>\n",
       "    </tr>\n",
       "    <tr>\n",
       "      <th>15</th>\n",
       "      <td>1068608</td>\n",
       "      <td>eshop-individual</td>\n",
       "      <td>2023-11-12 18:36:10</td>\n",
       "      <td>2258</td>\n",
       "    </tr>\n",
       "    <tr>\n",
       "      <th>10</th>\n",
       "      <td>1068624</td>\n",
       "      <td>eshop-individual</td>\n",
       "      <td>2023-11-13 12:35:43</td>\n",
       "      <td>3594</td>\n",
       "    </tr>\n",
       "    <tr>\n",
       "      <th>18</th>\n",
       "      <td>1068883</td>\n",
       "      <td>eshop-individual</td>\n",
       "      <td>2023-11-21 20:42:21</td>\n",
       "      <td>842</td>\n",
       "    </tr>\n",
       "  </tbody>\n",
       "</table>\n",
       "</div>"
      ],
      "text/plain": [
       "         id         orderType            createdAt  totalSumm\n",
       "1   1068599  eshop-individual  2023-11-11 17:10:12        569\n",
       "0   1068783  eshop-individual  2023-11-17 16:45:15          0\n",
       "1   1068924  eshop-individual  2023-11-23 14:50:53          0\n",
       "3   1068769  eshop-individual  2023-11-17 12:44:47          0\n",
       "3   1068862  eshop-individual  2023-11-21 13:06:07        470\n",
       "19  1068787  eshop-individual  2023-11-17 23:03:08       1663\n",
       "14  1068889  eshop-individual  2023-11-22 11:27:19       1382\n",
       "15  1068608  eshop-individual  2023-11-12 18:36:10       2258\n",
       "10  1068624  eshop-individual  2023-11-13 12:35:43       3594\n",
       "18  1068883  eshop-individual  2023-11-21 20:42:21        842"
      ]
     },
     "metadata": {},
     "output_type": "display_data"
    },
    {
     "name": "stdout",
     "output_type": "stream",
     "text": [
      "Минимальные значения столбца id\n"
     ]
    },
    {
     "data": {
      "text/html": [
       "<div>\n",
       "<style scoped>\n",
       "    .dataframe tbody tr th:only-of-type {\n",
       "        vertical-align: middle;\n",
       "    }\n",
       "\n",
       "    .dataframe tbody tr th {\n",
       "        vertical-align: top;\n",
       "    }\n",
       "\n",
       "    .dataframe thead th {\n",
       "        text-align: right;\n",
       "    }\n",
       "</style>\n",
       "<table border=\"1\" class=\"dataframe\">\n",
       "  <thead>\n",
       "    <tr style=\"text-align: right;\">\n",
       "      <th></th>\n",
       "      <th>id</th>\n",
       "      <th>orderType</th>\n",
       "      <th>createdAt</th>\n",
       "      <th>totalSumm</th>\n",
       "    </tr>\n",
       "  </thead>\n",
       "  <tbody>\n",
       "    <tr>\n",
       "      <th>19</th>\n",
       "      <td>1068475</td>\n",
       "      <td>eshop-individual</td>\n",
       "      <td>2023-11-07 10:54:49</td>\n",
       "      <td>1382</td>\n",
       "    </tr>\n",
       "    <tr>\n",
       "      <th>18</th>\n",
       "      <td>1068486</td>\n",
       "      <td>eshop-individual</td>\n",
       "      <td>2023-11-07 14:31:10</td>\n",
       "      <td>0</td>\n",
       "    </tr>\n",
       "    <tr>\n",
       "      <th>17</th>\n",
       "      <td>1068498</td>\n",
       "      <td>eshop-individual</td>\n",
       "      <td>2023-11-07 22:24:48</td>\n",
       "      <td>4099</td>\n",
       "    </tr>\n",
       "    <tr>\n",
       "      <th>16</th>\n",
       "      <td>1068507</td>\n",
       "      <td>eshop-individual</td>\n",
       "      <td>2023-11-08 12:17:30</td>\n",
       "      <td>819</td>\n",
       "    </tr>\n",
       "    <tr>\n",
       "      <th>15</th>\n",
       "      <td>1068519</td>\n",
       "      <td>eshop-individual</td>\n",
       "      <td>2023-11-08 16:00:27</td>\n",
       "      <td>1027</td>\n",
       "    </tr>\n",
       "    <tr>\n",
       "      <th>14</th>\n",
       "      <td>1068529</td>\n",
       "      <td>eshop-individual</td>\n",
       "      <td>2023-11-08 20:20:51</td>\n",
       "      <td>1305</td>\n",
       "    </tr>\n",
       "    <tr>\n",
       "      <th>13</th>\n",
       "      <td>1068530</td>\n",
       "      <td>eshop-individual</td>\n",
       "      <td>2023-11-08 21:05:32</td>\n",
       "      <td>1569</td>\n",
       "    </tr>\n",
       "    <tr>\n",
       "      <th>12</th>\n",
       "      <td>1068531</td>\n",
       "      <td>eshop-individual</td>\n",
       "      <td>2023-11-08 22:26:17</td>\n",
       "      <td>2840</td>\n",
       "    </tr>\n",
       "    <tr>\n",
       "      <th>11</th>\n",
       "      <td>1068533</td>\n",
       "      <td>eshop-individual</td>\n",
       "      <td>2023-11-09 10:34:57</td>\n",
       "      <td>1198</td>\n",
       "    </tr>\n",
       "    <tr>\n",
       "      <th>10</th>\n",
       "      <td>1068548</td>\n",
       "      <td>eshop-individual</td>\n",
       "      <td>2023-11-09 14:12:46</td>\n",
       "      <td>1011</td>\n",
       "    </tr>\n",
       "  </tbody>\n",
       "</table>\n",
       "</div>"
      ],
      "text/plain": [
       "         id         orderType            createdAt  totalSumm\n",
       "19  1068475  eshop-individual  2023-11-07 10:54:49       1382\n",
       "18  1068486  eshop-individual  2023-11-07 14:31:10          0\n",
       "17  1068498  eshop-individual  2023-11-07 22:24:48       4099\n",
       "16  1068507  eshop-individual  2023-11-08 12:17:30        819\n",
       "15  1068519  eshop-individual  2023-11-08 16:00:27       1027\n",
       "14  1068529  eshop-individual  2023-11-08 20:20:51       1305\n",
       "13  1068530  eshop-individual  2023-11-08 21:05:32       1569\n",
       "12  1068531  eshop-individual  2023-11-08 22:26:17       2840\n",
       "11  1068533  eshop-individual  2023-11-09 10:34:57       1198\n",
       "10  1068548  eshop-individual  2023-11-09 14:12:46       1011"
      ]
     },
     "metadata": {},
     "output_type": "display_data"
    },
    {
     "name": "stdout",
     "output_type": "stream",
     "text": [
      "Отрицательные значения столбца id\n"
     ]
    },
    {
     "data": {
      "text/plain": [
       "0"
      ]
     },
     "metadata": {},
     "output_type": "display_data"
    },
    {
     "name": "stdout",
     "output_type": "stream",
     "text": [
      "Отсутствующие значения id\n"
     ]
    },
    {
     "data": {
      "text/plain": [
       "0"
      ]
     },
     "metadata": {},
     "output_type": "display_data"
    },
    {
     "name": "stdout",
     "output_type": "stream",
     "text": [
      "Доли отсутствующих значений с округлением id\n"
     ]
    },
    {
     "data": {
      "text/plain": [
       "0.0"
      ]
     },
     "metadata": {},
     "output_type": "display_data"
    },
    {
     "name": "stdout",
     "output_type": "stream",
     "text": [
      "Сводная информация по параметрам данных id\n"
     ]
    },
    {
     "data": {
      "text/plain": [
       "count        140.00\n",
       "mean     1068740.94\n",
       "std          117.09\n",
       "min      1068475.00\n",
       "25%      1068646.75\n",
       "50%      1068753.50\n",
       "75%      1068837.25\n",
       "max      1068925.00\n",
       "Name: id, dtype: float64"
      ]
     },
     "metadata": {},
     "output_type": "display_data"
    },
    {
     "name": "stdout",
     "output_type": "stream",
     "text": [
      "График распределения данных id\n"
     ]
    },
    {
     "data": {
      "image/png": "[encoded data removed]",
      "text/plain": [
       "<Figure size 432x288 with 1 Axes>"
      ]
     },
     "metadata": {
      "needs_background": "light"
     },
     "output_type": "display_data"
    }
   ],
   "source": [
    "col_info_num (df_1, 'id')"
   ]
  },
  {
   "cell_type": "code",
   "execution_count": 21,
   "id": "c64de3f2",
   "metadata": {
    "scrolled": false
   },
   "outputs": [
    {
     "name": "stdout",
     "output_type": "stream",
     "text": [
      "Тип данных orderType\n"
     ]
    },
    {
     "data": {
      "text/plain": [
       "dtype('O')"
      ]
     },
     "metadata": {},
     "output_type": "display_data"
    },
    {
     "name": "stdout",
     "output_type": "stream",
     "text": [
      "Уникальные значения и количество их упоминаний в столбце orderType\n"
     ]
    },
    {
     "data": {
      "text/plain": [
       "eshop-individual    140\n",
       "Name: orderType, dtype: int64"
      ]
     },
     "metadata": {},
     "output_type": "display_data"
    },
    {
     "name": "stdout",
     "output_type": "stream",
     "text": [
      "Cлучайные 10 строк\n"
     ]
    },
    {
     "data": {
      "text/html": [
       "<div>\n",
       "<style scoped>\n",
       "    .dataframe tbody tr th:only-of-type {\n",
       "        vertical-align: middle;\n",
       "    }\n",
       "\n",
       "    .dataframe tbody tr th {\n",
       "        vertical-align: top;\n",
       "    }\n",
       "\n",
       "    .dataframe thead th {\n",
       "        text-align: right;\n",
       "    }\n",
       "</style>\n",
       "<table border=\"1\" class=\"dataframe\">\n",
       "  <thead>\n",
       "    <tr style=\"text-align: right;\">\n",
       "      <th></th>\n",
       "      <th>id</th>\n",
       "      <th>orderType</th>\n",
       "      <th>createdAt</th>\n",
       "      <th>totalSumm</th>\n",
       "    </tr>\n",
       "  </thead>\n",
       "  <tbody>\n",
       "    <tr>\n",
       "      <th>6</th>\n",
       "      <td>1068853</td>\n",
       "      <td>eshop-individual</td>\n",
       "      <td>2023-11-21 09:34:25</td>\n",
       "      <td>0</td>\n",
       "    </tr>\n",
       "    <tr>\n",
       "      <th>12</th>\n",
       "      <td>1068845</td>\n",
       "      <td>eshop-individual</td>\n",
       "      <td>2023-11-20 17:51:46</td>\n",
       "      <td>5083</td>\n",
       "    </tr>\n",
       "    <tr>\n",
       "      <th>15</th>\n",
       "      <td>1068740</td>\n",
       "      <td>eshop-individual</td>\n",
       "      <td>2023-11-16 13:44:04</td>\n",
       "      <td>2885</td>\n",
       "    </tr>\n",
       "    <tr>\n",
       "      <th>1</th>\n",
       "      <td>1068726</td>\n",
       "      <td>eshop-individual</td>\n",
       "      <td>2023-11-16 09:33:03</td>\n",
       "      <td>0</td>\n",
       "    </tr>\n",
       "    <tr>\n",
       "      <th>4</th>\n",
       "      <td>1068647</td>\n",
       "      <td>eshop-individual</td>\n",
       "      <td>2023-11-14 07:36:10</td>\n",
       "      <td>735</td>\n",
       "    </tr>\n",
       "    <tr>\n",
       "      <th>5</th>\n",
       "      <td>1068594</td>\n",
       "      <td>eshop-individual</td>\n",
       "      <td>2023-11-11 08:22:02</td>\n",
       "      <td>461</td>\n",
       "    </tr>\n",
       "    <tr>\n",
       "      <th>18</th>\n",
       "      <td>1068486</td>\n",
       "      <td>eshop-individual</td>\n",
       "      <td>2023-11-07 14:31:10</td>\n",
       "      <td>0</td>\n",
       "    </tr>\n",
       "    <tr>\n",
       "      <th>4</th>\n",
       "      <td>1068765</td>\n",
       "      <td>eshop-individual</td>\n",
       "      <td>2023-11-17 10:58:55</td>\n",
       "      <td>0</td>\n",
       "    </tr>\n",
       "    <tr>\n",
       "      <th>0</th>\n",
       "      <td>1068729</td>\n",
       "      <td>eshop-individual</td>\n",
       "      <td>2023-11-16 09:45:47</td>\n",
       "      <td>0</td>\n",
       "    </tr>\n",
       "    <tr>\n",
       "      <th>15</th>\n",
       "      <td>1068797</td>\n",
       "      <td>eshop-individual</td>\n",
       "      <td>2023-11-18 11:13:48</td>\n",
       "      <td>1268</td>\n",
       "    </tr>\n",
       "  </tbody>\n",
       "</table>\n",
       "</div>"
      ],
      "text/plain": [
       "         id         orderType            createdAt  totalSumm\n",
       "6   1068853  eshop-individual  2023-11-21 09:34:25          0\n",
       "12  1068845  eshop-individual  2023-11-20 17:51:46       5083\n",
       "15  1068740  eshop-individual  2023-11-16 13:44:04       2885\n",
       "1   1068726  eshop-individual  2023-11-16 09:33:03          0\n",
       "4   1068647  eshop-individual  2023-11-14 07:36:10        735\n",
       "5   1068594  eshop-individual  2023-11-11 08:22:02        461\n",
       "18  1068486  eshop-individual  2023-11-07 14:31:10          0\n",
       "4   1068765  eshop-individual  2023-11-17 10:58:55          0\n",
       "0   1068729  eshop-individual  2023-11-16 09:45:47          0\n",
       "15  1068797  eshop-individual  2023-11-18 11:13:48       1268"
      ]
     },
     "metadata": {},
     "output_type": "display_data"
    },
    {
     "name": "stdout",
     "output_type": "stream",
     "text": [
      "Отсутствующие значения orderType\n"
     ]
    },
    {
     "data": {
      "text/plain": [
       "0"
      ]
     },
     "metadata": {},
     "output_type": "display_data"
    },
    {
     "name": "stdout",
     "output_type": "stream",
     "text": [
      "Доли отсутствующих значений с округлением orderType\n"
     ]
    },
    {
     "data": {
      "text/plain": [
       "0.0"
      ]
     },
     "metadata": {},
     "output_type": "display_data"
    }
   ],
   "source": [
    "# вывод инфрмации по столбцу таблицы\n",
    "col_info_not_num (df_1, 'orderType')"
   ]
  },
  {
   "cell_type": "markdown",
   "id": "9251e044",
   "metadata": {},
   "source": [
    "Все заказ только в одном типе - eshop-individual    140"
   ]
  },
  {
   "cell_type": "code",
   "execution_count": 22,
   "id": "f2ac6994",
   "metadata": {
    "scrolled": false
   },
   "outputs": [
    {
     "name": "stdout",
     "output_type": "stream",
     "text": [
      "Тип данных createdAt\n"
     ]
    },
    {
     "data": {
      "text/plain": [
       "dtype('O')"
      ]
     },
     "metadata": {},
     "output_type": "display_data"
    },
    {
     "name": "stdout",
     "output_type": "stream",
     "text": [
      "Уникальные значения и количество их упоминаний в столбце createdAt\n"
     ]
    },
    {
     "data": {
      "text/plain": [
       "2023-11-23 14:54:43    1\n",
       "2023-11-14 19:57:55    1\n",
       "2023-11-15 13:43:42    1\n",
       "2023-11-15 11:57:11    1\n",
       "2023-11-15 02:44:41    1\n",
       "                      ..\n",
       "2023-11-20 11:02:25    1\n",
       "2023-11-20 12:24:39    1\n",
       "2023-11-20 13:59:58    1\n",
       "2023-11-20 14:35:50    1\n",
       "2023-11-07 10:54:49    1\n",
       "Name: createdAt, Length: 140, dtype: int64"
      ]
     },
     "metadata": {},
     "output_type": "display_data"
    },
    {
     "name": "stdout",
     "output_type": "stream",
     "text": [
      "Cлучайные 10 строк\n"
     ]
    },
    {
     "data": {
      "text/html": [
       "<div>\n",
       "<style scoped>\n",
       "    .dataframe tbody tr th:only-of-type {\n",
       "        vertical-align: middle;\n",
       "    }\n",
       "\n",
       "    .dataframe tbody tr th {\n",
       "        vertical-align: top;\n",
       "    }\n",
       "\n",
       "    .dataframe thead th {\n",
       "        text-align: right;\n",
       "    }\n",
       "</style>\n",
       "<table border=\"1\" class=\"dataframe\">\n",
       "  <thead>\n",
       "    <tr style=\"text-align: right;\">\n",
       "      <th></th>\n",
       "      <th>id</th>\n",
       "      <th>orderType</th>\n",
       "      <th>createdAt</th>\n",
       "      <th>totalSumm</th>\n",
       "    </tr>\n",
       "  </thead>\n",
       "  <tbody>\n",
       "    <tr>\n",
       "      <th>10</th>\n",
       "      <td>1068699</td>\n",
       "      <td>eshop-individual</td>\n",
       "      <td>2023-11-15 13:43:42</td>\n",
       "      <td>505</td>\n",
       "    </tr>\n",
       "    <tr>\n",
       "      <th>10</th>\n",
       "      <td>1068803</td>\n",
       "      <td>eshop-individual</td>\n",
       "      <td>2023-11-18 21:40:41</td>\n",
       "      <td>1657</td>\n",
       "    </tr>\n",
       "    <tr>\n",
       "      <th>6</th>\n",
       "      <td>1068809</td>\n",
       "      <td>eshop-individual</td>\n",
       "      <td>2023-11-20 00:00:55</td>\n",
       "      <td>2313</td>\n",
       "    </tr>\n",
       "    <tr>\n",
       "      <th>8</th>\n",
       "      <td>1068905</td>\n",
       "      <td>eshop-individual</td>\n",
       "      <td>2023-11-23 00:09:24</td>\n",
       "      <td>1501</td>\n",
       "    </tr>\n",
       "    <tr>\n",
       "      <th>7</th>\n",
       "      <td>1068633</td>\n",
       "      <td>eshop-individual</td>\n",
       "      <td>2023-11-13 15:11:16</td>\n",
       "      <td>2064</td>\n",
       "    </tr>\n",
       "    <tr>\n",
       "      <th>2</th>\n",
       "      <td>1068815</td>\n",
       "      <td>eshop-individual</td>\n",
       "      <td>2023-11-20 09:49:03</td>\n",
       "      <td>1459</td>\n",
       "    </tr>\n",
       "    <tr>\n",
       "      <th>18</th>\n",
       "      <td>1068486</td>\n",
       "      <td>eshop-individual</td>\n",
       "      <td>2023-11-07 14:31:10</td>\n",
       "      <td>0</td>\n",
       "    </tr>\n",
       "    <tr>\n",
       "      <th>14</th>\n",
       "      <td>1068889</td>\n",
       "      <td>eshop-individual</td>\n",
       "      <td>2023-11-22 11:27:19</td>\n",
       "      <td>1382</td>\n",
       "    </tr>\n",
       "    <tr>\n",
       "      <th>17</th>\n",
       "      <td>1068603</td>\n",
       "      <td>eshop-individual</td>\n",
       "      <td>2023-11-12 03:07:37</td>\n",
       "      <td>1920</td>\n",
       "    </tr>\n",
       "    <tr>\n",
       "      <th>3</th>\n",
       "      <td>1068862</td>\n",
       "      <td>eshop-individual</td>\n",
       "      <td>2023-11-21 13:06:07</td>\n",
       "      <td>470</td>\n",
       "    </tr>\n",
       "  </tbody>\n",
       "</table>\n",
       "</div>"
      ],
      "text/plain": [
       "         id         orderType            createdAt  totalSumm\n",
       "10  1068699  eshop-individual  2023-11-15 13:43:42        505\n",
       "10  1068803  eshop-individual  2023-11-18 21:40:41       1657\n",
       "6   1068809  eshop-individual  2023-11-20 00:00:55       2313\n",
       "8   1068905  eshop-individual  2023-11-23 00:09:24       1501\n",
       "7   1068633  eshop-individual  2023-11-13 15:11:16       2064\n",
       "2   1068815  eshop-individual  2023-11-20 09:49:03       1459\n",
       "18  1068486  eshop-individual  2023-11-07 14:31:10          0\n",
       "14  1068889  eshop-individual  2023-11-22 11:27:19       1382\n",
       "17  1068603  eshop-individual  2023-11-12 03:07:37       1920\n",
       "3   1068862  eshop-individual  2023-11-21 13:06:07        470"
      ]
     },
     "metadata": {},
     "output_type": "display_data"
    },
    {
     "name": "stdout",
     "output_type": "stream",
     "text": [
      "Отсутствующие значения createdAt\n"
     ]
    },
    {
     "data": {
      "text/plain": [
       "0"
      ]
     },
     "metadata": {},
     "output_type": "display_data"
    },
    {
     "name": "stdout",
     "output_type": "stream",
     "text": [
      "Доли отсутствующих значений с округлением createdAt\n"
     ]
    },
    {
     "data": {
      "text/plain": [
       "0.0"
      ]
     },
     "metadata": {},
     "output_type": "display_data"
    }
   ],
   "source": [
    "# вывод инфрмации по столбцу таблицы\n",
    "col_info_not_num (df_1, 'createdAt')"
   ]
  },
  {
   "cell_type": "code",
   "execution_count": 23,
   "id": "fdb57b3d",
   "metadata": {},
   "outputs": [
    {
     "name": "stderr",
     "output_type": "stream",
     "text": [
      "C:\\Users\\7636~1\\AppData\\Local\\Temp/ipykernel_2028/1375758571.py:1: SettingWithCopyWarning: \n",
      "A value is trying to be set on a copy of a slice from a DataFrame.\n",
      "Try using .loc[row_indexer,col_indexer] = value instead\n",
      "\n",
      "See the caveats in the documentation: https://pandas.pydata.org/pandas-docs/stable/user_guide/indexing.html#returning-a-view-versus-a-copy\n",
      "  df_1['Date']= pd.to_datetime(df_1['createdAt'])\n"
     ]
    }
   ],
   "source": [
    "df_1['Date']= pd.to_datetime(df_1['createdAt'])"
   ]
  },
  {
   "cell_type": "code",
   "execution_count": 24,
   "id": "b7e2c48d",
   "metadata": {},
   "outputs": [
    {
     "name": "stderr",
     "output_type": "stream",
     "text": [
      "C:\\Users\\7636~1\\AppData\\Local\\Temp/ipykernel_2028/1649917639.py:1: SettingWithCopyWarning: \n",
      "A value is trying to be set on a copy of a slice from a DataFrame.\n",
      "Try using .loc[row_indexer,col_indexer] = value instead\n",
      "\n",
      "See the caveats in the documentation: https://pandas.pydata.org/pandas-docs/stable/user_guide/indexing.html#returning-a-view-versus-a-copy\n",
      "  df_1['just_date'] = df_1['Date'].dt.date\n"
     ]
    }
   ],
   "source": [
    "df_1['just_date'] = df_1['Date'].dt.date"
   ]
  },
  {
   "cell_type": "code",
   "execution_count": 25,
   "id": "f60acf4b",
   "metadata": {},
   "outputs": [
    {
     "data": {
      "text/html": [
       "<div>\n",
       "<style scoped>\n",
       "    .dataframe tbody tr th:only-of-type {\n",
       "        vertical-align: middle;\n",
       "    }\n",
       "\n",
       "    .dataframe tbody tr th {\n",
       "        vertical-align: top;\n",
       "    }\n",
       "\n",
       "    .dataframe thead th {\n",
       "        text-align: right;\n",
       "    }\n",
       "</style>\n",
       "<table border=\"1\" class=\"dataframe\">\n",
       "  <thead>\n",
       "    <tr style=\"text-align: right;\">\n",
       "      <th></th>\n",
       "      <th>id</th>\n",
       "      <th>orderType</th>\n",
       "      <th>createdAt</th>\n",
       "      <th>totalSumm</th>\n",
       "      <th>Date</th>\n",
       "      <th>just_date</th>\n",
       "    </tr>\n",
       "  </thead>\n",
       "  <tbody>\n",
       "    <tr>\n",
       "      <th>0</th>\n",
       "      <td>1068925</td>\n",
       "      <td>eshop-individual</td>\n",
       "      <td>2023-11-23 14:54:43</td>\n",
       "      <td>0</td>\n",
       "      <td>2023-11-23 14:54:43</td>\n",
       "      <td>2023-11-23</td>\n",
       "    </tr>\n",
       "    <tr>\n",
       "      <th>1</th>\n",
       "      <td>1068924</td>\n",
       "      <td>eshop-individual</td>\n",
       "      <td>2023-11-23 14:50:53</td>\n",
       "      <td>0</td>\n",
       "      <td>2023-11-23 14:50:53</td>\n",
       "      <td>2023-11-23</td>\n",
       "    </tr>\n",
       "    <tr>\n",
       "      <th>2</th>\n",
       "      <td>1068923</td>\n",
       "      <td>eshop-individual</td>\n",
       "      <td>2023-11-23 14:43:03</td>\n",
       "      <td>0</td>\n",
       "      <td>2023-11-23 14:43:03</td>\n",
       "      <td>2023-11-23</td>\n",
       "    </tr>\n",
       "    <tr>\n",
       "      <th>3</th>\n",
       "      <td>1068921</td>\n",
       "      <td>eshop-individual</td>\n",
       "      <td>2023-11-23 14:22:00</td>\n",
       "      <td>0</td>\n",
       "      <td>2023-11-23 14:22:00</td>\n",
       "      <td>2023-11-23</td>\n",
       "    </tr>\n",
       "    <tr>\n",
       "      <th>4</th>\n",
       "      <td>1068913</td>\n",
       "      <td>eshop-individual</td>\n",
       "      <td>2023-11-23 11:36:50</td>\n",
       "      <td>0</td>\n",
       "      <td>2023-11-23 11:36:50</td>\n",
       "      <td>2023-11-23</td>\n",
       "    </tr>\n",
       "    <tr>\n",
       "      <th>...</th>\n",
       "      <td>...</td>\n",
       "      <td>...</td>\n",
       "      <td>...</td>\n",
       "      <td>...</td>\n",
       "      <td>...</td>\n",
       "      <td>...</td>\n",
       "    </tr>\n",
       "    <tr>\n",
       "      <th>15</th>\n",
       "      <td>1068519</td>\n",
       "      <td>eshop-individual</td>\n",
       "      <td>2023-11-08 16:00:27</td>\n",
       "      <td>1027</td>\n",
       "      <td>2023-11-08 16:00:27</td>\n",
       "      <td>2023-11-08</td>\n",
       "    </tr>\n",
       "    <tr>\n",
       "      <th>16</th>\n",
       "      <td>1068507</td>\n",
       "      <td>eshop-individual</td>\n",
       "      <td>2023-11-08 12:17:30</td>\n",
       "      <td>819</td>\n",
       "      <td>2023-11-08 12:17:30</td>\n",
       "      <td>2023-11-08</td>\n",
       "    </tr>\n",
       "    <tr>\n",
       "      <th>17</th>\n",
       "      <td>1068498</td>\n",
       "      <td>eshop-individual</td>\n",
       "      <td>2023-11-07 22:24:48</td>\n",
       "      <td>4099</td>\n",
       "      <td>2023-11-07 22:24:48</td>\n",
       "      <td>2023-11-07</td>\n",
       "    </tr>\n",
       "    <tr>\n",
       "      <th>18</th>\n",
       "      <td>1068486</td>\n",
       "      <td>eshop-individual</td>\n",
       "      <td>2023-11-07 14:31:10</td>\n",
       "      <td>0</td>\n",
       "      <td>2023-11-07 14:31:10</td>\n",
       "      <td>2023-11-07</td>\n",
       "    </tr>\n",
       "    <tr>\n",
       "      <th>19</th>\n",
       "      <td>1068475</td>\n",
       "      <td>eshop-individual</td>\n",
       "      <td>2023-11-07 10:54:49</td>\n",
       "      <td>1382</td>\n",
       "      <td>2023-11-07 10:54:49</td>\n",
       "      <td>2023-11-07</td>\n",
       "    </tr>\n",
       "  </tbody>\n",
       "</table>\n",
       "<p>140 rows × 6 columns</p>\n",
       "</div>"
      ],
      "text/plain": [
       "         id         orderType            createdAt  totalSumm  \\\n",
       "0   1068925  eshop-individual  2023-11-23 14:54:43          0   \n",
       "1   1068924  eshop-individual  2023-11-23 14:50:53          0   \n",
       "2   1068923  eshop-individual  2023-11-23 14:43:03          0   \n",
       "3   1068921  eshop-individual  2023-11-23 14:22:00          0   \n",
       "4   1068913  eshop-individual  2023-11-23 11:36:50          0   \n",
       "..      ...               ...                  ...        ...   \n",
       "15  1068519  eshop-individual  2023-11-08 16:00:27       1027   \n",
       "16  1068507  eshop-individual  2023-11-08 12:17:30        819   \n",
       "17  1068498  eshop-individual  2023-11-07 22:24:48       4099   \n",
       "18  1068486  eshop-individual  2023-11-07 14:31:10          0   \n",
       "19  1068475  eshop-individual  2023-11-07 10:54:49       1382   \n",
       "\n",
       "                  Date   just_date  \n",
       "0  2023-11-23 14:54:43  2023-11-23  \n",
       "1  2023-11-23 14:50:53  2023-11-23  \n",
       "2  2023-11-23 14:43:03  2023-11-23  \n",
       "3  2023-11-23 14:22:00  2023-11-23  \n",
       "4  2023-11-23 11:36:50  2023-11-23  \n",
       "..                 ...         ...  \n",
       "15 2023-11-08 16:00:27  2023-11-08  \n",
       "16 2023-11-08 12:17:30  2023-11-08  \n",
       "17 2023-11-07 22:24:48  2023-11-07  \n",
       "18 2023-11-07 14:31:10  2023-11-07  \n",
       "19 2023-11-07 10:54:49  2023-11-07  \n",
       "\n",
       "[140 rows x 6 columns]"
      ]
     },
     "execution_count": 25,
     "metadata": {},
     "output_type": "execute_result"
    }
   ],
   "source": [
    "df_1"
   ]
  },
  {
   "cell_type": "code",
   "execution_count": 26,
   "id": "8681de23",
   "metadata": {
    "scrolled": false
   },
   "outputs": [
    {
     "name": "stdout",
     "output_type": "stream",
     "text": [
      "Тип данных totalSumm\n"
     ]
    },
    {
     "data": {
      "text/plain": [
       "dtype('int64')"
      ]
     },
     "metadata": {},
     "output_type": "display_data"
    },
    {
     "name": "stdout",
     "output_type": "stream",
     "text": [
      "Уникальные значения и количество их упоминаний в столбце totalSumm\n"
     ]
    },
    {
     "data": {
      "text/plain": [
       "0       36\n",
       "1198     3\n",
       "749      3\n",
       "735      2\n",
       "1657     2\n",
       "        ..\n",
       "468      1\n",
       "1029     1\n",
       "1455     1\n",
       "619      1\n",
       "4099     1\n",
       "Name: totalSumm, Length: 94, dtype: int64"
      ]
     },
     "metadata": {},
     "output_type": "display_data"
    },
    {
     "name": "stdout",
     "output_type": "stream",
     "text": [
      "Максимальные значения столбца totalSumm\n"
     ]
    },
    {
     "data": {
      "text/html": [
       "<div>\n",
       "<style scoped>\n",
       "    .dataframe tbody tr th:only-of-type {\n",
       "        vertical-align: middle;\n",
       "    }\n",
       "\n",
       "    .dataframe tbody tr th {\n",
       "        vertical-align: top;\n",
       "    }\n",
       "\n",
       "    .dataframe thead th {\n",
       "        text-align: right;\n",
       "    }\n",
       "</style>\n",
       "<table border=\"1\" class=\"dataframe\">\n",
       "  <thead>\n",
       "    <tr style=\"text-align: right;\">\n",
       "      <th></th>\n",
       "      <th>id</th>\n",
       "      <th>orderType</th>\n",
       "      <th>createdAt</th>\n",
       "      <th>totalSumm</th>\n",
       "      <th>Date</th>\n",
       "      <th>just_date</th>\n",
       "    </tr>\n",
       "  </thead>\n",
       "  <tbody>\n",
       "    <tr>\n",
       "      <th>0</th>\n",
       "      <td>1068820</td>\n",
       "      <td>eshop-individual</td>\n",
       "      <td>2023-11-20 11:02:25</td>\n",
       "      <td>23879</td>\n",
       "      <td>2023-11-20 11:02:25</td>\n",
       "      <td>2023-11-20</td>\n",
       "    </tr>\n",
       "    <tr>\n",
       "      <th>17</th>\n",
       "      <td>1068680</td>\n",
       "      <td>eshop-individual</td>\n",
       "      <td>2023-11-14 18:00:12</td>\n",
       "      <td>6176</td>\n",
       "      <td>2023-11-14 18:00:12</td>\n",
       "      <td>2023-11-14</td>\n",
       "    </tr>\n",
       "    <tr>\n",
       "      <th>8</th>\n",
       "      <td>1068561</td>\n",
       "      <td>eshop-individual</td>\n",
       "      <td>2023-11-09 17:24:23</td>\n",
       "      <td>5400</td>\n",
       "      <td>2023-11-09 17:24:23</td>\n",
       "      <td>2023-11-09</td>\n",
       "    </tr>\n",
       "    <tr>\n",
       "      <th>12</th>\n",
       "      <td>1068845</td>\n",
       "      <td>eshop-individual</td>\n",
       "      <td>2023-11-20 17:51:46</td>\n",
       "      <td>5083</td>\n",
       "      <td>2023-11-20 17:51:46</td>\n",
       "      <td>2023-11-20</td>\n",
       "    </tr>\n",
       "    <tr>\n",
       "      <th>0</th>\n",
       "      <td>1068669</td>\n",
       "      <td>eshop-individual</td>\n",
       "      <td>2023-11-14 14:09:13</td>\n",
       "      <td>4984</td>\n",
       "      <td>2023-11-14 14:09:13</td>\n",
       "      <td>2023-11-14</td>\n",
       "    </tr>\n",
       "    <tr>\n",
       "      <th>7</th>\n",
       "      <td>1068850</td>\n",
       "      <td>eshop-individual</td>\n",
       "      <td>2023-11-21 00:43:15</td>\n",
       "      <td>4719</td>\n",
       "      <td>2023-11-21 00:43:15</td>\n",
       "      <td>2023-11-21</td>\n",
       "    </tr>\n",
       "    <tr>\n",
       "      <th>11</th>\n",
       "      <td>1068620</td>\n",
       "      <td>eshop-individual</td>\n",
       "      <td>2023-11-12 12:03:11</td>\n",
       "      <td>4148</td>\n",
       "      <td>2023-11-12 12:03:11</td>\n",
       "      <td>2023-11-12</td>\n",
       "    </tr>\n",
       "    <tr>\n",
       "      <th>12</th>\n",
       "      <td>1068685</td>\n",
       "      <td>eshop-individual</td>\n",
       "      <td>2023-11-15 02:44:41</td>\n",
       "      <td>4116</td>\n",
       "      <td>2023-11-15 02:44:41</td>\n",
       "      <td>2023-11-15</td>\n",
       "    </tr>\n",
       "    <tr>\n",
       "      <th>17</th>\n",
       "      <td>1068498</td>\n",
       "      <td>eshop-individual</td>\n",
       "      <td>2023-11-07 22:24:48</td>\n",
       "      <td>4099</td>\n",
       "      <td>2023-11-07 22:24:48</td>\n",
       "      <td>2023-11-07</td>\n",
       "    </tr>\n",
       "    <tr>\n",
       "      <th>6</th>\n",
       "      <td>1068640</td>\n",
       "      <td>eshop-individual</td>\n",
       "      <td>2023-11-13 17:23:18</td>\n",
       "      <td>3879</td>\n",
       "      <td>2023-11-13 17:23:18</td>\n",
       "      <td>2023-11-13</td>\n",
       "    </tr>\n",
       "  </tbody>\n",
       "</table>\n",
       "</div>"
      ],
      "text/plain": [
       "         id         orderType            createdAt  totalSumm  \\\n",
       "0   1068820  eshop-individual  2023-11-20 11:02:25      23879   \n",
       "17  1068680  eshop-individual  2023-11-14 18:00:12       6176   \n",
       "8   1068561  eshop-individual  2023-11-09 17:24:23       5400   \n",
       "12  1068845  eshop-individual  2023-11-20 17:51:46       5083   \n",
       "0   1068669  eshop-individual  2023-11-14 14:09:13       4984   \n",
       "7   1068850  eshop-individual  2023-11-21 00:43:15       4719   \n",
       "11  1068620  eshop-individual  2023-11-12 12:03:11       4148   \n",
       "12  1068685  eshop-individual  2023-11-15 02:44:41       4116   \n",
       "17  1068498  eshop-individual  2023-11-07 22:24:48       4099   \n",
       "6   1068640  eshop-individual  2023-11-13 17:23:18       3879   \n",
       "\n",
       "                  Date   just_date  \n",
       "0  2023-11-20 11:02:25  2023-11-20  \n",
       "17 2023-11-14 18:00:12  2023-11-14  \n",
       "8  2023-11-09 17:24:23  2023-11-09  \n",
       "12 2023-11-20 17:51:46  2023-11-20  \n",
       "0  2023-11-14 14:09:13  2023-11-14  \n",
       "7  2023-11-21 00:43:15  2023-11-21  \n",
       "11 2023-11-12 12:03:11  2023-11-12  \n",
       "12 2023-11-15 02:44:41  2023-11-15  \n",
       "17 2023-11-07 22:24:48  2023-11-07  \n",
       "6  2023-11-13 17:23:18  2023-11-13  "
      ]
     },
     "metadata": {},
     "output_type": "display_data"
    },
    {
     "name": "stdout",
     "output_type": "stream",
     "text": [
      "Cлучайные 10 строк\n"
     ]
    },
    {
     "data": {
      "text/html": [
       "<div>\n",
       "<style scoped>\n",
       "    .dataframe tbody tr th:only-of-type {\n",
       "        vertical-align: middle;\n",
       "    }\n",
       "\n",
       "    .dataframe tbody tr th {\n",
       "        vertical-align: top;\n",
       "    }\n",
       "\n",
       "    .dataframe thead th {\n",
       "        text-align: right;\n",
       "    }\n",
       "</style>\n",
       "<table border=\"1\" class=\"dataframe\">\n",
       "  <thead>\n",
       "    <tr style=\"text-align: right;\">\n",
       "      <th></th>\n",
       "      <th>id</th>\n",
       "      <th>orderType</th>\n",
       "      <th>createdAt</th>\n",
       "      <th>totalSumm</th>\n",
       "      <th>Date</th>\n",
       "      <th>just_date</th>\n",
       "    </tr>\n",
       "  </thead>\n",
       "  <tbody>\n",
       "    <tr>\n",
       "      <th>13</th>\n",
       "      <td>1068894</td>\n",
       "      <td>eshop-individual</td>\n",
       "      <td>2023-11-22 13:41:24</td>\n",
       "      <td>1440</td>\n",
       "      <td>2023-11-22 13:41:24</td>\n",
       "      <td>2023-11-22</td>\n",
       "    </tr>\n",
       "    <tr>\n",
       "      <th>19</th>\n",
       "      <td>1068787</td>\n",
       "      <td>eshop-individual</td>\n",
       "      <td>2023-11-17 23:03:08</td>\n",
       "      <td>1663</td>\n",
       "      <td>2023-11-17 23:03:08</td>\n",
       "      <td>2023-11-17</td>\n",
       "    </tr>\n",
       "    <tr>\n",
       "      <th>14</th>\n",
       "      <td>1068889</td>\n",
       "      <td>eshop-individual</td>\n",
       "      <td>2023-11-22 11:27:19</td>\n",
       "      <td>1382</td>\n",
       "      <td>2023-11-22 11:27:19</td>\n",
       "      <td>2023-11-22</td>\n",
       "    </tr>\n",
       "    <tr>\n",
       "      <th>19</th>\n",
       "      <td>1068879</td>\n",
       "      <td>eshop-individual</td>\n",
       "      <td>2023-11-21 18:01:18</td>\n",
       "      <td>1322</td>\n",
       "      <td>2023-11-21 18:01:18</td>\n",
       "      <td>2023-11-21</td>\n",
       "    </tr>\n",
       "    <tr>\n",
       "      <th>9</th>\n",
       "      <td>1068630</td>\n",
       "      <td>eshop-individual</td>\n",
       "      <td>2023-11-13 14:13:34</td>\n",
       "      <td>1080</td>\n",
       "      <td>2023-11-13 14:13:34</td>\n",
       "      <td>2023-11-13</td>\n",
       "    </tr>\n",
       "    <tr>\n",
       "      <th>0</th>\n",
       "      <td>1068669</td>\n",
       "      <td>eshop-individual</td>\n",
       "      <td>2023-11-14 14:09:13</td>\n",
       "      <td>4984</td>\n",
       "      <td>2023-11-14 14:09:13</td>\n",
       "      <td>2023-11-14</td>\n",
       "    </tr>\n",
       "    <tr>\n",
       "      <th>8</th>\n",
       "      <td>1068561</td>\n",
       "      <td>eshop-individual</td>\n",
       "      <td>2023-11-09 17:24:23</td>\n",
       "      <td>5400</td>\n",
       "      <td>2023-11-09 17:24:23</td>\n",
       "      <td>2023-11-09</td>\n",
       "    </tr>\n",
       "    <tr>\n",
       "      <th>5</th>\n",
       "      <td>1068763</td>\n",
       "      <td>eshop-individual</td>\n",
       "      <td>2023-11-17 10:15:26</td>\n",
       "      <td>749</td>\n",
       "      <td>2023-11-17 10:15:26</td>\n",
       "      <td>2023-11-17</td>\n",
       "    </tr>\n",
       "    <tr>\n",
       "      <th>18</th>\n",
       "      <td>1068830</td>\n",
       "      <td>eshop-individual</td>\n",
       "      <td>2023-11-20 13:59:58</td>\n",
       "      <td>1198</td>\n",
       "      <td>2023-11-20 13:59:58</td>\n",
       "      <td>2023-11-20</td>\n",
       "    </tr>\n",
       "    <tr>\n",
       "      <th>16</th>\n",
       "      <td>1068796</td>\n",
       "      <td>eshop-individual</td>\n",
       "      <td>2023-11-18 11:00:42</td>\n",
       "      <td>1377</td>\n",
       "      <td>2023-11-18 11:00:42</td>\n",
       "      <td>2023-11-18</td>\n",
       "    </tr>\n",
       "  </tbody>\n",
       "</table>\n",
       "</div>"
      ],
      "text/plain": [
       "         id         orderType            createdAt  totalSumm  \\\n",
       "13  1068894  eshop-individual  2023-11-22 13:41:24       1440   \n",
       "19  1068787  eshop-individual  2023-11-17 23:03:08       1663   \n",
       "14  1068889  eshop-individual  2023-11-22 11:27:19       1382   \n",
       "19  1068879  eshop-individual  2023-11-21 18:01:18       1322   \n",
       "9   1068630  eshop-individual  2023-11-13 14:13:34       1080   \n",
       "0   1068669  eshop-individual  2023-11-14 14:09:13       4984   \n",
       "8   1068561  eshop-individual  2023-11-09 17:24:23       5400   \n",
       "5   1068763  eshop-individual  2023-11-17 10:15:26        749   \n",
       "18  1068830  eshop-individual  2023-11-20 13:59:58       1198   \n",
       "16  1068796  eshop-individual  2023-11-18 11:00:42       1377   \n",
       "\n",
       "                  Date   just_date  \n",
       "13 2023-11-22 13:41:24  2023-11-22  \n",
       "19 2023-11-17 23:03:08  2023-11-17  \n",
       "14 2023-11-22 11:27:19  2023-11-22  \n",
       "19 2023-11-21 18:01:18  2023-11-21  \n",
       "9  2023-11-13 14:13:34  2023-11-13  \n",
       "0  2023-11-14 14:09:13  2023-11-14  \n",
       "8  2023-11-09 17:24:23  2023-11-09  \n",
       "5  2023-11-17 10:15:26  2023-11-17  \n",
       "18 2023-11-20 13:59:58  2023-11-20  \n",
       "16 2023-11-18 11:00:42  2023-11-18  "
      ]
     },
     "metadata": {},
     "output_type": "display_data"
    },
    {
     "name": "stdout",
     "output_type": "stream",
     "text": [
      "Минимальные значения столбца totalSumm\n"
     ]
    },
    {
     "data": {
      "text/html": [
       "<div>\n",
       "<style scoped>\n",
       "    .dataframe tbody tr th:only-of-type {\n",
       "        vertical-align: middle;\n",
       "    }\n",
       "\n",
       "    .dataframe tbody tr th {\n",
       "        vertical-align: top;\n",
       "    }\n",
       "\n",
       "    .dataframe thead th {\n",
       "        text-align: right;\n",
       "    }\n",
       "</style>\n",
       "<table border=\"1\" class=\"dataframe\">\n",
       "  <thead>\n",
       "    <tr style=\"text-align: right;\">\n",
       "      <th></th>\n",
       "      <th>id</th>\n",
       "      <th>orderType</th>\n",
       "      <th>createdAt</th>\n",
       "      <th>totalSumm</th>\n",
       "      <th>Date</th>\n",
       "      <th>just_date</th>\n",
       "    </tr>\n",
       "  </thead>\n",
       "  <tbody>\n",
       "    <tr>\n",
       "      <th>0</th>\n",
       "      <td>1068925</td>\n",
       "      <td>eshop-individual</td>\n",
       "      <td>2023-11-23 14:54:43</td>\n",
       "      <td>0</td>\n",
       "      <td>2023-11-23 14:54:43</td>\n",
       "      <td>2023-11-23</td>\n",
       "    </tr>\n",
       "    <tr>\n",
       "      <th>1</th>\n",
       "      <td>1068924</td>\n",
       "      <td>eshop-individual</td>\n",
       "      <td>2023-11-23 14:50:53</td>\n",
       "      <td>0</td>\n",
       "      <td>2023-11-23 14:50:53</td>\n",
       "      <td>2023-11-23</td>\n",
       "    </tr>\n",
       "    <tr>\n",
       "      <th>2</th>\n",
       "      <td>1068923</td>\n",
       "      <td>eshop-individual</td>\n",
       "      <td>2023-11-23 14:43:03</td>\n",
       "      <td>0</td>\n",
       "      <td>2023-11-23 14:43:03</td>\n",
       "      <td>2023-11-23</td>\n",
       "    </tr>\n",
       "    <tr>\n",
       "      <th>3</th>\n",
       "      <td>1068921</td>\n",
       "      <td>eshop-individual</td>\n",
       "      <td>2023-11-23 14:22:00</td>\n",
       "      <td>0</td>\n",
       "      <td>2023-11-23 14:22:00</td>\n",
       "      <td>2023-11-23</td>\n",
       "    </tr>\n",
       "    <tr>\n",
       "      <th>4</th>\n",
       "      <td>1068913</td>\n",
       "      <td>eshop-individual</td>\n",
       "      <td>2023-11-23 11:36:50</td>\n",
       "      <td>0</td>\n",
       "      <td>2023-11-23 11:36:50</td>\n",
       "      <td>2023-11-23</td>\n",
       "    </tr>\n",
       "    <tr>\n",
       "      <th>5</th>\n",
       "      <td>1068910</td>\n",
       "      <td>eshop-individual</td>\n",
       "      <td>2023-11-23 11:11:44</td>\n",
       "      <td>0</td>\n",
       "      <td>2023-11-23 11:11:44</td>\n",
       "      <td>2023-11-23</td>\n",
       "    </tr>\n",
       "    <tr>\n",
       "      <th>10</th>\n",
       "      <td>1068901</td>\n",
       "      <td>eshop-individual</td>\n",
       "      <td>2023-11-22 16:54:12</td>\n",
       "      <td>0</td>\n",
       "      <td>2023-11-22 16:54:12</td>\n",
       "      <td>2023-11-22</td>\n",
       "    </tr>\n",
       "    <tr>\n",
       "      <th>11</th>\n",
       "      <td>1068896</td>\n",
       "      <td>eshop-individual</td>\n",
       "      <td>2023-11-22 14:02:11</td>\n",
       "      <td>0</td>\n",
       "      <td>2023-11-22 14:02:11</td>\n",
       "      <td>2023-11-22</td>\n",
       "    </tr>\n",
       "    <tr>\n",
       "      <th>12</th>\n",
       "      <td>1068895</td>\n",
       "      <td>eshop-individual</td>\n",
       "      <td>2023-11-22 13:58:39</td>\n",
       "      <td>0</td>\n",
       "      <td>2023-11-22 13:58:39</td>\n",
       "      <td>2023-11-22</td>\n",
       "    </tr>\n",
       "    <tr>\n",
       "      <th>15</th>\n",
       "      <td>1068886</td>\n",
       "      <td>eshop-individual</td>\n",
       "      <td>2023-11-22 09:47:58</td>\n",
       "      <td>0</td>\n",
       "      <td>2023-11-22 09:47:58</td>\n",
       "      <td>2023-11-22</td>\n",
       "    </tr>\n",
       "  </tbody>\n",
       "</table>\n",
       "</div>"
      ],
      "text/plain": [
       "         id         orderType            createdAt  totalSumm  \\\n",
       "0   1068925  eshop-individual  2023-11-23 14:54:43          0   \n",
       "1   1068924  eshop-individual  2023-11-23 14:50:53          0   \n",
       "2   1068923  eshop-individual  2023-11-23 14:43:03          0   \n",
       "3   1068921  eshop-individual  2023-11-23 14:22:00          0   \n",
       "4   1068913  eshop-individual  2023-11-23 11:36:50          0   \n",
       "5   1068910  eshop-individual  2023-11-23 11:11:44          0   \n",
       "10  1068901  eshop-individual  2023-11-22 16:54:12          0   \n",
       "11  1068896  eshop-individual  2023-11-22 14:02:11          0   \n",
       "12  1068895  eshop-individual  2023-11-22 13:58:39          0   \n",
       "15  1068886  eshop-individual  2023-11-22 09:47:58          0   \n",
       "\n",
       "                  Date   just_date  \n",
       "0  2023-11-23 14:54:43  2023-11-23  \n",
       "1  2023-11-23 14:50:53  2023-11-23  \n",
       "2  2023-11-23 14:43:03  2023-11-23  \n",
       "3  2023-11-23 14:22:00  2023-11-23  \n",
       "4  2023-11-23 11:36:50  2023-11-23  \n",
       "5  2023-11-23 11:11:44  2023-11-23  \n",
       "10 2023-11-22 16:54:12  2023-11-22  \n",
       "11 2023-11-22 14:02:11  2023-11-22  \n",
       "12 2023-11-22 13:58:39  2023-11-22  \n",
       "15 2023-11-22 09:47:58  2023-11-22  "
      ]
     },
     "metadata": {},
     "output_type": "display_data"
    },
    {
     "name": "stdout",
     "output_type": "stream",
     "text": [
      "Отрицательные значения столбца totalSumm\n"
     ]
    },
    {
     "data": {
      "text/plain": [
       "0"
      ]
     },
     "metadata": {},
     "output_type": "display_data"
    },
    {
     "name": "stdout",
     "output_type": "stream",
     "text": [
      "Отсутствующие значения totalSumm\n"
     ]
    },
    {
     "data": {
      "text/plain": [
       "0"
      ]
     },
     "metadata": {},
     "output_type": "display_data"
    },
    {
     "name": "stdout",
     "output_type": "stream",
     "text": [
      "Доли отсутствующих значений с округлением totalSumm\n"
     ]
    },
    {
     "data": {
      "text/plain": [
       "0.0"
      ]
     },
     "metadata": {},
     "output_type": "display_data"
    },
    {
     "name": "stdout",
     "output_type": "stream",
     "text": [
      "Сводная информация по параметрам данных totalSumm\n"
     ]
    },
    {
     "data": {
      "text/plain": [
       "count      140.00\n",
       "mean      1505.43\n",
       "std       2291.06\n",
       "min          0.00\n",
       "25%          0.00\n",
       "50%       1198.00\n",
       "75%       1749.25\n",
       "max      23879.00\n",
       "Name: totalSumm, dtype: float64"
      ]
     },
     "metadata": {},
     "output_type": "display_data"
    },
    {
     "name": "stdout",
     "output_type": "stream",
     "text": [
      "График распределения данных totalSumm\n"
     ]
    },
    {
     "data": {
      "image/png": "[encoded data removed]",
      "text/plain": [
       "<Figure size 432x288 with 1 Axes>"
      ]
     },
     "metadata": {
      "needs_background": "light"
     },
     "output_type": "display_data"
    }
   ],
   "source": [
    "col_info_num (df_1, 'totalSumm')"
   ]
  },
  {
   "cell_type": "markdown",
   "id": "41d8b065",
   "metadata": {},
   "source": [
    "36 заказов с нулевыми значениями (удалим их, так как они влияют на общие показатели). Также удалим один крупный заказ на 23879 рублей"
   ]
  },
  {
   "cell_type": "code",
   "execution_count": 27,
   "id": "81f1459f",
   "metadata": {},
   "outputs": [
    {
     "data": {
      "text/html": [
       "<div>\n",
       "<style scoped>\n",
       "    .dataframe tbody tr th:only-of-type {\n",
       "        vertical-align: middle;\n",
       "    }\n",
       "\n",
       "    .dataframe tbody tr th {\n",
       "        vertical-align: top;\n",
       "    }\n",
       "\n",
       "    .dataframe thead th {\n",
       "        text-align: right;\n",
       "    }\n",
       "</style>\n",
       "<table border=\"1\" class=\"dataframe\">\n",
       "  <thead>\n",
       "    <tr style=\"text-align: right;\">\n",
       "      <th></th>\n",
       "      <th>id</th>\n",
       "      <th>orderType</th>\n",
       "      <th>createdAt</th>\n",
       "      <th>totalSumm</th>\n",
       "      <th>Date</th>\n",
       "      <th>just_date</th>\n",
       "    </tr>\n",
       "  </thead>\n",
       "  <tbody>\n",
       "    <tr>\n",
       "      <th>0</th>\n",
       "      <td>1068925</td>\n",
       "      <td>eshop-individual</td>\n",
       "      <td>2023-11-23 14:54:43</td>\n",
       "      <td>0</td>\n",
       "      <td>2023-11-23 14:54:43</td>\n",
       "      <td>2023-11-23</td>\n",
       "    </tr>\n",
       "    <tr>\n",
       "      <th>1</th>\n",
       "      <td>1068924</td>\n",
       "      <td>eshop-individual</td>\n",
       "      <td>2023-11-23 14:50:53</td>\n",
       "      <td>0</td>\n",
       "      <td>2023-11-23 14:50:53</td>\n",
       "      <td>2023-11-23</td>\n",
       "    </tr>\n",
       "    <tr>\n",
       "      <th>2</th>\n",
       "      <td>1068923</td>\n",
       "      <td>eshop-individual</td>\n",
       "      <td>2023-11-23 14:43:03</td>\n",
       "      <td>0</td>\n",
       "      <td>2023-11-23 14:43:03</td>\n",
       "      <td>2023-11-23</td>\n",
       "    </tr>\n",
       "    <tr>\n",
       "      <th>3</th>\n",
       "      <td>1068921</td>\n",
       "      <td>eshop-individual</td>\n",
       "      <td>2023-11-23 14:22:00</td>\n",
       "      <td>0</td>\n",
       "      <td>2023-11-23 14:22:00</td>\n",
       "      <td>2023-11-23</td>\n",
       "    </tr>\n",
       "    <tr>\n",
       "      <th>4</th>\n",
       "      <td>1068913</td>\n",
       "      <td>eshop-individual</td>\n",
       "      <td>2023-11-23 11:36:50</td>\n",
       "      <td>0</td>\n",
       "      <td>2023-11-23 11:36:50</td>\n",
       "      <td>2023-11-23</td>\n",
       "    </tr>\n",
       "    <tr>\n",
       "      <th>...</th>\n",
       "      <td>...</td>\n",
       "      <td>...</td>\n",
       "      <td>...</td>\n",
       "      <td>...</td>\n",
       "      <td>...</td>\n",
       "      <td>...</td>\n",
       "    </tr>\n",
       "    <tr>\n",
       "      <th>15</th>\n",
       "      <td>1068519</td>\n",
       "      <td>eshop-individual</td>\n",
       "      <td>2023-11-08 16:00:27</td>\n",
       "      <td>1027</td>\n",
       "      <td>2023-11-08 16:00:27</td>\n",
       "      <td>2023-11-08</td>\n",
       "    </tr>\n",
       "    <tr>\n",
       "      <th>16</th>\n",
       "      <td>1068507</td>\n",
       "      <td>eshop-individual</td>\n",
       "      <td>2023-11-08 12:17:30</td>\n",
       "      <td>819</td>\n",
       "      <td>2023-11-08 12:17:30</td>\n",
       "      <td>2023-11-08</td>\n",
       "    </tr>\n",
       "    <tr>\n",
       "      <th>17</th>\n",
       "      <td>1068498</td>\n",
       "      <td>eshop-individual</td>\n",
       "      <td>2023-11-07 22:24:48</td>\n",
       "      <td>4099</td>\n",
       "      <td>2023-11-07 22:24:48</td>\n",
       "      <td>2023-11-07</td>\n",
       "    </tr>\n",
       "    <tr>\n",
       "      <th>18</th>\n",
       "      <td>1068486</td>\n",
       "      <td>eshop-individual</td>\n",
       "      <td>2023-11-07 14:31:10</td>\n",
       "      <td>0</td>\n",
       "      <td>2023-11-07 14:31:10</td>\n",
       "      <td>2023-11-07</td>\n",
       "    </tr>\n",
       "    <tr>\n",
       "      <th>19</th>\n",
       "      <td>1068475</td>\n",
       "      <td>eshop-individual</td>\n",
       "      <td>2023-11-07 10:54:49</td>\n",
       "      <td>1382</td>\n",
       "      <td>2023-11-07 10:54:49</td>\n",
       "      <td>2023-11-07</td>\n",
       "    </tr>\n",
       "  </tbody>\n",
       "</table>\n",
       "<p>140 rows × 6 columns</p>\n",
       "</div>"
      ],
      "text/plain": [
       "         id         orderType            createdAt  totalSumm  \\\n",
       "0   1068925  eshop-individual  2023-11-23 14:54:43          0   \n",
       "1   1068924  eshop-individual  2023-11-23 14:50:53          0   \n",
       "2   1068923  eshop-individual  2023-11-23 14:43:03          0   \n",
       "3   1068921  eshop-individual  2023-11-23 14:22:00          0   \n",
       "4   1068913  eshop-individual  2023-11-23 11:36:50          0   \n",
       "..      ...               ...                  ...        ...   \n",
       "15  1068519  eshop-individual  2023-11-08 16:00:27       1027   \n",
       "16  1068507  eshop-individual  2023-11-08 12:17:30        819   \n",
       "17  1068498  eshop-individual  2023-11-07 22:24:48       4099   \n",
       "18  1068486  eshop-individual  2023-11-07 14:31:10          0   \n",
       "19  1068475  eshop-individual  2023-11-07 10:54:49       1382   \n",
       "\n",
       "                  Date   just_date  \n",
       "0  2023-11-23 14:54:43  2023-11-23  \n",
       "1  2023-11-23 14:50:53  2023-11-23  \n",
       "2  2023-11-23 14:43:03  2023-11-23  \n",
       "3  2023-11-23 14:22:00  2023-11-23  \n",
       "4  2023-11-23 11:36:50  2023-11-23  \n",
       "..                 ...         ...  \n",
       "15 2023-11-08 16:00:27  2023-11-08  \n",
       "16 2023-11-08 12:17:30  2023-11-08  \n",
       "17 2023-11-07 22:24:48  2023-11-07  \n",
       "18 2023-11-07 14:31:10  2023-11-07  \n",
       "19 2023-11-07 10:54:49  2023-11-07  \n",
       "\n",
       "[140 rows x 6 columns]"
      ]
     },
     "execution_count": 27,
     "metadata": {},
     "output_type": "execute_result"
    }
   ],
   "source": [
    "df_1"
   ]
  },
  {
   "cell_type": "code",
   "execution_count": 28,
   "id": "c8603447",
   "metadata": {},
   "outputs": [],
   "source": [
    "df_1 = df_1.query('totalSumm > 0 and (totalSumm < 23879)')"
   ]
  },
  {
   "cell_type": "code",
   "execution_count": 29,
   "id": "2408679e",
   "metadata": {},
   "outputs": [
    {
     "data": {
      "text/html": [
       "<div>\n",
       "<style scoped>\n",
       "    .dataframe tbody tr th:only-of-type {\n",
       "        vertical-align: middle;\n",
       "    }\n",
       "\n",
       "    .dataframe tbody tr th {\n",
       "        vertical-align: top;\n",
       "    }\n",
       "\n",
       "    .dataframe thead th {\n",
       "        text-align: right;\n",
       "    }\n",
       "</style>\n",
       "<table border=\"1\" class=\"dataframe\">\n",
       "  <thead>\n",
       "    <tr style=\"text-align: right;\">\n",
       "      <th></th>\n",
       "      <th>id</th>\n",
       "      <th>orderType</th>\n",
       "      <th>createdAt</th>\n",
       "      <th>totalSumm</th>\n",
       "      <th>Date</th>\n",
       "      <th>just_date</th>\n",
       "    </tr>\n",
       "  </thead>\n",
       "  <tbody>\n",
       "    <tr>\n",
       "      <th>6</th>\n",
       "      <td>1068907</td>\n",
       "      <td>eshop-individual</td>\n",
       "      <td>2023-11-23 08:57:08</td>\n",
       "      <td>1518</td>\n",
       "      <td>2023-11-23 08:57:08</td>\n",
       "      <td>2023-11-23</td>\n",
       "    </tr>\n",
       "    <tr>\n",
       "      <th>7</th>\n",
       "      <td>1068906</td>\n",
       "      <td>eshop-individual</td>\n",
       "      <td>2023-11-23 05:57:48</td>\n",
       "      <td>870</td>\n",
       "      <td>2023-11-23 05:57:48</td>\n",
       "      <td>2023-11-23</td>\n",
       "    </tr>\n",
       "    <tr>\n",
       "      <th>8</th>\n",
       "      <td>1068905</td>\n",
       "      <td>eshop-individual</td>\n",
       "      <td>2023-11-23 00:09:24</td>\n",
       "      <td>1501</td>\n",
       "      <td>2023-11-23 00:09:24</td>\n",
       "      <td>2023-11-23</td>\n",
       "    </tr>\n",
       "    <tr>\n",
       "      <th>9</th>\n",
       "      <td>1068904</td>\n",
       "      <td>eshop-individual</td>\n",
       "      <td>2023-11-22 23:57:27</td>\n",
       "      <td>1888</td>\n",
       "      <td>2023-11-22 23:57:27</td>\n",
       "      <td>2023-11-22</td>\n",
       "    </tr>\n",
       "    <tr>\n",
       "      <th>13</th>\n",
       "      <td>1068894</td>\n",
       "      <td>eshop-individual</td>\n",
       "      <td>2023-11-22 13:41:24</td>\n",
       "      <td>1440</td>\n",
       "      <td>2023-11-22 13:41:24</td>\n",
       "      <td>2023-11-22</td>\n",
       "    </tr>\n",
       "    <tr>\n",
       "      <th>...</th>\n",
       "      <td>...</td>\n",
       "      <td>...</td>\n",
       "      <td>...</td>\n",
       "      <td>...</td>\n",
       "      <td>...</td>\n",
       "      <td>...</td>\n",
       "    </tr>\n",
       "    <tr>\n",
       "      <th>14</th>\n",
       "      <td>1068529</td>\n",
       "      <td>eshop-individual</td>\n",
       "      <td>2023-11-08 20:20:51</td>\n",
       "      <td>1305</td>\n",
       "      <td>2023-11-08 20:20:51</td>\n",
       "      <td>2023-11-08</td>\n",
       "    </tr>\n",
       "    <tr>\n",
       "      <th>15</th>\n",
       "      <td>1068519</td>\n",
       "      <td>eshop-individual</td>\n",
       "      <td>2023-11-08 16:00:27</td>\n",
       "      <td>1027</td>\n",
       "      <td>2023-11-08 16:00:27</td>\n",
       "      <td>2023-11-08</td>\n",
       "    </tr>\n",
       "    <tr>\n",
       "      <th>16</th>\n",
       "      <td>1068507</td>\n",
       "      <td>eshop-individual</td>\n",
       "      <td>2023-11-08 12:17:30</td>\n",
       "      <td>819</td>\n",
       "      <td>2023-11-08 12:17:30</td>\n",
       "      <td>2023-11-08</td>\n",
       "    </tr>\n",
       "    <tr>\n",
       "      <th>17</th>\n",
       "      <td>1068498</td>\n",
       "      <td>eshop-individual</td>\n",
       "      <td>2023-11-07 22:24:48</td>\n",
       "      <td>4099</td>\n",
       "      <td>2023-11-07 22:24:48</td>\n",
       "      <td>2023-11-07</td>\n",
       "    </tr>\n",
       "    <tr>\n",
       "      <th>19</th>\n",
       "      <td>1068475</td>\n",
       "      <td>eshop-individual</td>\n",
       "      <td>2023-11-07 10:54:49</td>\n",
       "      <td>1382</td>\n",
       "      <td>2023-11-07 10:54:49</td>\n",
       "      <td>2023-11-07</td>\n",
       "    </tr>\n",
       "  </tbody>\n",
       "</table>\n",
       "<p>103 rows × 6 columns</p>\n",
       "</div>"
      ],
      "text/plain": [
       "         id         orderType            createdAt  totalSumm  \\\n",
       "6   1068907  eshop-individual  2023-11-23 08:57:08       1518   \n",
       "7   1068906  eshop-individual  2023-11-23 05:57:48        870   \n",
       "8   1068905  eshop-individual  2023-11-23 00:09:24       1501   \n",
       "9   1068904  eshop-individual  2023-11-22 23:57:27       1888   \n",
       "13  1068894  eshop-individual  2023-11-22 13:41:24       1440   \n",
       "..      ...               ...                  ...        ...   \n",
       "14  1068529  eshop-individual  2023-11-08 20:20:51       1305   \n",
       "15  1068519  eshop-individual  2023-11-08 16:00:27       1027   \n",
       "16  1068507  eshop-individual  2023-11-08 12:17:30        819   \n",
       "17  1068498  eshop-individual  2023-11-07 22:24:48       4099   \n",
       "19  1068475  eshop-individual  2023-11-07 10:54:49       1382   \n",
       "\n",
       "                  Date   just_date  \n",
       "6  2023-11-23 08:57:08  2023-11-23  \n",
       "7  2023-11-23 05:57:48  2023-11-23  \n",
       "8  2023-11-23 00:09:24  2023-11-23  \n",
       "9  2023-11-22 23:57:27  2023-11-22  \n",
       "13 2023-11-22 13:41:24  2023-11-22  \n",
       "..                 ...         ...  \n",
       "14 2023-11-08 20:20:51  2023-11-08  \n",
       "15 2023-11-08 16:00:27  2023-11-08  \n",
       "16 2023-11-08 12:17:30  2023-11-08  \n",
       "17 2023-11-07 22:24:48  2023-11-07  \n",
       "19 2023-11-07 10:54:49  2023-11-07  \n",
       "\n",
       "[103 rows x 6 columns]"
      ]
     },
     "execution_count": 29,
     "metadata": {},
     "output_type": "execute_result"
    }
   ],
   "source": [
    "df_1"
   ]
  },
  {
   "cell_type": "code",
   "execution_count": 30,
   "id": "66eeea34",
   "metadata": {
    "scrolled": false
   },
   "outputs": [
    {
     "name": "stdout",
     "output_type": "stream",
     "text": [
      "Тип данных totalSumm\n"
     ]
    },
    {
     "data": {
      "text/plain": [
       "dtype('int64')"
      ]
     },
     "metadata": {},
     "output_type": "display_data"
    },
    {
     "name": "stdout",
     "output_type": "stream",
     "text": [
      "Уникальные значения и количество их упоминаний в столбце totalSumm\n"
     ]
    },
    {
     "data": {
      "text/plain": [
       "749     3\n",
       "1198    3\n",
       "1322    2\n",
       "3594    2\n",
       "819     2\n",
       "       ..\n",
       "760     1\n",
       "1256    1\n",
       "468     1\n",
       "1029    1\n",
       "4099    1\n",
       "Name: totalSumm, Length: 92, dtype: int64"
      ]
     },
     "metadata": {},
     "output_type": "display_data"
    },
    {
     "name": "stdout",
     "output_type": "stream",
     "text": [
      "Максимальные значения столбца totalSumm\n"
     ]
    },
    {
     "data": {
      "text/html": [
       "<div>\n",
       "<style scoped>\n",
       "    .dataframe tbody tr th:only-of-type {\n",
       "        vertical-align: middle;\n",
       "    }\n",
       "\n",
       "    .dataframe tbody tr th {\n",
       "        vertical-align: top;\n",
       "    }\n",
       "\n",
       "    .dataframe thead th {\n",
       "        text-align: right;\n",
       "    }\n",
       "</style>\n",
       "<table border=\"1\" class=\"dataframe\">\n",
       "  <thead>\n",
       "    <tr style=\"text-align: right;\">\n",
       "      <th></th>\n",
       "      <th>id</th>\n",
       "      <th>orderType</th>\n",
       "      <th>createdAt</th>\n",
       "      <th>totalSumm</th>\n",
       "      <th>Date</th>\n",
       "      <th>just_date</th>\n",
       "    </tr>\n",
       "  </thead>\n",
       "  <tbody>\n",
       "    <tr>\n",
       "      <th>17</th>\n",
       "      <td>1068680</td>\n",
       "      <td>eshop-individual</td>\n",
       "      <td>2023-11-14 18:00:12</td>\n",
       "      <td>6176</td>\n",
       "      <td>2023-11-14 18:00:12</td>\n",
       "      <td>2023-11-14</td>\n",
       "    </tr>\n",
       "    <tr>\n",
       "      <th>8</th>\n",
       "      <td>1068561</td>\n",
       "      <td>eshop-individual</td>\n",
       "      <td>2023-11-09 17:24:23</td>\n",
       "      <td>5400</td>\n",
       "      <td>2023-11-09 17:24:23</td>\n",
       "      <td>2023-11-09</td>\n",
       "    </tr>\n",
       "    <tr>\n",
       "      <th>12</th>\n",
       "      <td>1068845</td>\n",
       "      <td>eshop-individual</td>\n",
       "      <td>2023-11-20 17:51:46</td>\n",
       "      <td>5083</td>\n",
       "      <td>2023-11-20 17:51:46</td>\n",
       "      <td>2023-11-20</td>\n",
       "    </tr>\n",
       "    <tr>\n",
       "      <th>0</th>\n",
       "      <td>1068669</td>\n",
       "      <td>eshop-individual</td>\n",
       "      <td>2023-11-14 14:09:13</td>\n",
       "      <td>4984</td>\n",
       "      <td>2023-11-14 14:09:13</td>\n",
       "      <td>2023-11-14</td>\n",
       "    </tr>\n",
       "    <tr>\n",
       "      <th>7</th>\n",
       "      <td>1068850</td>\n",
       "      <td>eshop-individual</td>\n",
       "      <td>2023-11-21 00:43:15</td>\n",
       "      <td>4719</td>\n",
       "      <td>2023-11-21 00:43:15</td>\n",
       "      <td>2023-11-21</td>\n",
       "    </tr>\n",
       "    <tr>\n",
       "      <th>11</th>\n",
       "      <td>1068620</td>\n",
       "      <td>eshop-individual</td>\n",
       "      <td>2023-11-12 12:03:11</td>\n",
       "      <td>4148</td>\n",
       "      <td>2023-11-12 12:03:11</td>\n",
       "      <td>2023-11-12</td>\n",
       "    </tr>\n",
       "    <tr>\n",
       "      <th>12</th>\n",
       "      <td>1068685</td>\n",
       "      <td>eshop-individual</td>\n",
       "      <td>2023-11-15 02:44:41</td>\n",
       "      <td>4116</td>\n",
       "      <td>2023-11-15 02:44:41</td>\n",
       "      <td>2023-11-15</td>\n",
       "    </tr>\n",
       "    <tr>\n",
       "      <th>17</th>\n",
       "      <td>1068498</td>\n",
       "      <td>eshop-individual</td>\n",
       "      <td>2023-11-07 22:24:48</td>\n",
       "      <td>4099</td>\n",
       "      <td>2023-11-07 22:24:48</td>\n",
       "      <td>2023-11-07</td>\n",
       "    </tr>\n",
       "    <tr>\n",
       "      <th>6</th>\n",
       "      <td>1068640</td>\n",
       "      <td>eshop-individual</td>\n",
       "      <td>2023-11-13 17:23:18</td>\n",
       "      <td>3879</td>\n",
       "      <td>2023-11-13 17:23:18</td>\n",
       "      <td>2023-11-13</td>\n",
       "    </tr>\n",
       "    <tr>\n",
       "      <th>4</th>\n",
       "      <td>1068861</td>\n",
       "      <td>eshop-individual</td>\n",
       "      <td>2023-11-21 12:50:27</td>\n",
       "      <td>3785</td>\n",
       "      <td>2023-11-21 12:50:27</td>\n",
       "      <td>2023-11-21</td>\n",
       "    </tr>\n",
       "  </tbody>\n",
       "</table>\n",
       "</div>"
      ],
      "text/plain": [
       "         id         orderType            createdAt  totalSumm  \\\n",
       "17  1068680  eshop-individual  2023-11-14 18:00:12       6176   \n",
       "8   1068561  eshop-individual  2023-11-09 17:24:23       5400   \n",
       "12  1068845  eshop-individual  2023-11-20 17:51:46       5083   \n",
       "0   1068669  eshop-individual  2023-11-14 14:09:13       4984   \n",
       "7   1068850  eshop-individual  2023-11-21 00:43:15       4719   \n",
       "11  1068620  eshop-individual  2023-11-12 12:03:11       4148   \n",
       "12  1068685  eshop-individual  2023-11-15 02:44:41       4116   \n",
       "17  1068498  eshop-individual  2023-11-07 22:24:48       4099   \n",
       "6   1068640  eshop-individual  2023-11-13 17:23:18       3879   \n",
       "4   1068861  eshop-individual  2023-11-21 12:50:27       3785   \n",
       "\n",
       "                  Date   just_date  \n",
       "17 2023-11-14 18:00:12  2023-11-14  \n",
       "8  2023-11-09 17:24:23  2023-11-09  \n",
       "12 2023-11-20 17:51:46  2023-11-20  \n",
       "0  2023-11-14 14:09:13  2023-11-14  \n",
       "7  2023-11-21 00:43:15  2023-11-21  \n",
       "11 2023-11-12 12:03:11  2023-11-12  \n",
       "12 2023-11-15 02:44:41  2023-11-15  \n",
       "17 2023-11-07 22:24:48  2023-11-07  \n",
       "6  2023-11-13 17:23:18  2023-11-13  \n",
       "4  2023-11-21 12:50:27  2023-11-21  "
      ]
     },
     "metadata": {},
     "output_type": "display_data"
    },
    {
     "name": "stdout",
     "output_type": "stream",
     "text": [
      "Cлучайные 10 строк\n"
     ]
    },
    {
     "data": {
      "text/html": [
       "<div>\n",
       "<style scoped>\n",
       "    .dataframe tbody tr th:only-of-type {\n",
       "        vertical-align: middle;\n",
       "    }\n",
       "\n",
       "    .dataframe tbody tr th {\n",
       "        vertical-align: top;\n",
       "    }\n",
       "\n",
       "    .dataframe thead th {\n",
       "        text-align: right;\n",
       "    }\n",
       "</style>\n",
       "<table border=\"1\" class=\"dataframe\">\n",
       "  <thead>\n",
       "    <tr style=\"text-align: right;\">\n",
       "      <th></th>\n",
       "      <th>id</th>\n",
       "      <th>orderType</th>\n",
       "      <th>createdAt</th>\n",
       "      <th>totalSumm</th>\n",
       "      <th>Date</th>\n",
       "      <th>just_date</th>\n",
       "    </tr>\n",
       "  </thead>\n",
       "  <tbody>\n",
       "    <tr>\n",
       "      <th>16</th>\n",
       "      <td>1068507</td>\n",
       "      <td>eshop-individual</td>\n",
       "      <td>2023-11-08 12:17:30</td>\n",
       "      <td>819</td>\n",
       "      <td>2023-11-08 12:17:30</td>\n",
       "      <td>2023-11-08</td>\n",
       "    </tr>\n",
       "    <tr>\n",
       "      <th>4</th>\n",
       "      <td>1068720</td>\n",
       "      <td>eshop-individual</td>\n",
       "      <td>2023-11-16 07:36:05</td>\n",
       "      <td>3033</td>\n",
       "      <td>2023-11-16 07:36:05</td>\n",
       "      <td>2023-11-16</td>\n",
       "    </tr>\n",
       "    <tr>\n",
       "      <th>17</th>\n",
       "      <td>1068680</td>\n",
       "      <td>eshop-individual</td>\n",
       "      <td>2023-11-14 18:00:12</td>\n",
       "      <td>6176</td>\n",
       "      <td>2023-11-14 18:00:12</td>\n",
       "      <td>2023-11-14</td>\n",
       "    </tr>\n",
       "    <tr>\n",
       "      <th>6</th>\n",
       "      <td>1068640</td>\n",
       "      <td>eshop-individual</td>\n",
       "      <td>2023-11-13 17:23:18</td>\n",
       "      <td>3879</td>\n",
       "      <td>2023-11-13 17:23:18</td>\n",
       "      <td>2023-11-13</td>\n",
       "    </tr>\n",
       "    <tr>\n",
       "      <th>18</th>\n",
       "      <td>1068602</td>\n",
       "      <td>eshop-individual</td>\n",
       "      <td>2023-11-12 00:40:21</td>\n",
       "      <td>1743</td>\n",
       "      <td>2023-11-12 00:40:21</td>\n",
       "      <td>2023-11-12</td>\n",
       "    </tr>\n",
       "    <tr>\n",
       "      <th>3</th>\n",
       "      <td>1068648</td>\n",
       "      <td>eshop-individual</td>\n",
       "      <td>2023-11-14 09:20:25</td>\n",
       "      <td>3594</td>\n",
       "      <td>2023-11-14 09:20:25</td>\n",
       "      <td>2023-11-14</td>\n",
       "    </tr>\n",
       "    <tr>\n",
       "      <th>17</th>\n",
       "      <td>1068884</td>\n",
       "      <td>eshop-individual</td>\n",
       "      <td>2023-11-21 21:05:02</td>\n",
       "      <td>1072</td>\n",
       "      <td>2023-11-21 21:05:02</td>\n",
       "      <td>2023-11-21</td>\n",
       "    </tr>\n",
       "    <tr>\n",
       "      <th>4</th>\n",
       "      <td>1068595</td>\n",
       "      <td>eshop-individual</td>\n",
       "      <td>2023-11-11 10:43:21</td>\n",
       "      <td>946</td>\n",
       "      <td>2023-11-11 10:43:21</td>\n",
       "      <td>2023-11-11</td>\n",
       "    </tr>\n",
       "    <tr>\n",
       "      <th>17</th>\n",
       "      <td>1068498</td>\n",
       "      <td>eshop-individual</td>\n",
       "      <td>2023-11-07 22:24:48</td>\n",
       "      <td>4099</td>\n",
       "      <td>2023-11-07 22:24:48</td>\n",
       "      <td>2023-11-07</td>\n",
       "    </tr>\n",
       "    <tr>\n",
       "      <th>18</th>\n",
       "      <td>1068883</td>\n",
       "      <td>eshop-individual</td>\n",
       "      <td>2023-11-21 20:42:21</td>\n",
       "      <td>842</td>\n",
       "      <td>2023-11-21 20:42:21</td>\n",
       "      <td>2023-11-21</td>\n",
       "    </tr>\n",
       "  </tbody>\n",
       "</table>\n",
       "</div>"
      ],
      "text/plain": [
       "         id         orderType            createdAt  totalSumm  \\\n",
       "16  1068507  eshop-individual  2023-11-08 12:17:30        819   \n",
       "4   1068720  eshop-individual  2023-11-16 07:36:05       3033   \n",
       "17  1068680  eshop-individual  2023-11-14 18:00:12       6176   \n",
       "6   1068640  eshop-individual  2023-11-13 17:23:18       3879   \n",
       "18  1068602  eshop-individual  2023-11-12 00:40:21       1743   \n",
       "3   1068648  eshop-individual  2023-11-14 09:20:25       3594   \n",
       "17  1068884  eshop-individual  2023-11-21 21:05:02       1072   \n",
       "4   1068595  eshop-individual  2023-11-11 10:43:21        946   \n",
       "17  1068498  eshop-individual  2023-11-07 22:24:48       4099   \n",
       "18  1068883  eshop-individual  2023-11-21 20:42:21        842   \n",
       "\n",
       "                  Date   just_date  \n",
       "16 2023-11-08 12:17:30  2023-11-08  \n",
       "4  2023-11-16 07:36:05  2023-11-16  \n",
       "17 2023-11-14 18:00:12  2023-11-14  \n",
       "6  2023-11-13 17:23:18  2023-11-13  \n",
       "18 2023-11-12 00:40:21  2023-11-12  \n",
       "3  2023-11-14 09:20:25  2023-11-14  \n",
       "17 2023-11-21 21:05:02  2023-11-21  \n",
       "4  2023-11-11 10:43:21  2023-11-11  \n",
       "17 2023-11-07 22:24:48  2023-11-07  \n",
       "18 2023-11-21 20:42:21  2023-11-21  "
      ]
     },
     "metadata": {},
     "output_type": "display_data"
    },
    {
     "name": "stdout",
     "output_type": "stream",
     "text": [
      "Минимальные значения столбца totalSumm\n"
     ]
    },
    {
     "data": {
      "text/html": [
       "<div>\n",
       "<style scoped>\n",
       "    .dataframe tbody tr th:only-of-type {\n",
       "        vertical-align: middle;\n",
       "    }\n",
       "\n",
       "    .dataframe tbody tr th {\n",
       "        vertical-align: top;\n",
       "    }\n",
       "\n",
       "    .dataframe thead th {\n",
       "        text-align: right;\n",
       "    }\n",
       "</style>\n",
       "<table border=\"1\" class=\"dataframe\">\n",
       "  <thead>\n",
       "    <tr style=\"text-align: right;\">\n",
       "      <th></th>\n",
       "      <th>id</th>\n",
       "      <th>orderType</th>\n",
       "      <th>createdAt</th>\n",
       "      <th>totalSumm</th>\n",
       "      <th>Date</th>\n",
       "      <th>just_date</th>\n",
       "    </tr>\n",
       "  </thead>\n",
       "  <tbody>\n",
       "    <tr>\n",
       "      <th>5</th>\n",
       "      <td>1068594</td>\n",
       "      <td>eshop-individual</td>\n",
       "      <td>2023-11-11 08:22:02</td>\n",
       "      <td>461</td>\n",
       "      <td>2023-11-11 08:22:02</td>\n",
       "      <td>2023-11-11</td>\n",
       "    </tr>\n",
       "    <tr>\n",
       "      <th>12</th>\n",
       "      <td>1068801</td>\n",
       "      <td>eshop-individual</td>\n",
       "      <td>2023-11-18 17:16:23</td>\n",
       "      <td>468</td>\n",
       "      <td>2023-11-18 17:16:23</td>\n",
       "      <td>2023-11-18</td>\n",
       "    </tr>\n",
       "    <tr>\n",
       "      <th>3</th>\n",
       "      <td>1068862</td>\n",
       "      <td>eshop-individual</td>\n",
       "      <td>2023-11-21 13:06:07</td>\n",
       "      <td>470</td>\n",
       "      <td>2023-11-21 13:06:07</td>\n",
       "      <td>2023-11-21</td>\n",
       "    </tr>\n",
       "    <tr>\n",
       "      <th>10</th>\n",
       "      <td>1068699</td>\n",
       "      <td>eshop-individual</td>\n",
       "      <td>2023-11-15 13:43:42</td>\n",
       "      <td>505</td>\n",
       "      <td>2023-11-15 13:43:42</td>\n",
       "      <td>2023-11-15</td>\n",
       "    </tr>\n",
       "    <tr>\n",
       "      <th>1</th>\n",
       "      <td>1068599</td>\n",
       "      <td>eshop-individual</td>\n",
       "      <td>2023-11-11 17:10:12</td>\n",
       "      <td>569</td>\n",
       "      <td>2023-11-11 17:10:12</td>\n",
       "      <td>2023-11-11</td>\n",
       "    </tr>\n",
       "    <tr>\n",
       "      <th>7</th>\n",
       "      <td>1068808</td>\n",
       "      <td>eshop-individual</td>\n",
       "      <td>2023-11-19 21:53:31</td>\n",
       "      <td>619</td>\n",
       "      <td>2023-11-19 21:53:31</td>\n",
       "      <td>2023-11-19</td>\n",
       "    </tr>\n",
       "    <tr>\n",
       "      <th>19</th>\n",
       "      <td>1068732</td>\n",
       "      <td>eshop-individual</td>\n",
       "      <td>2023-11-15 08:09:12</td>\n",
       "      <td>735</td>\n",
       "      <td>2023-11-15 08:09:12</td>\n",
       "      <td>2023-11-15</td>\n",
       "    </tr>\n",
       "    <tr>\n",
       "      <th>4</th>\n",
       "      <td>1068647</td>\n",
       "      <td>eshop-individual</td>\n",
       "      <td>2023-11-14 07:36:10</td>\n",
       "      <td>735</td>\n",
       "      <td>2023-11-14 07:36:10</td>\n",
       "      <td>2023-11-14</td>\n",
       "    </tr>\n",
       "    <tr>\n",
       "      <th>5</th>\n",
       "      <td>1068763</td>\n",
       "      <td>eshop-individual</td>\n",
       "      <td>2023-11-17 10:15:26</td>\n",
       "      <td>749</td>\n",
       "      <td>2023-11-17 10:15:26</td>\n",
       "      <td>2023-11-17</td>\n",
       "    </tr>\n",
       "    <tr>\n",
       "      <th>10</th>\n",
       "      <td>1068751</td>\n",
       "      <td>eshop-individual</td>\n",
       "      <td>2023-11-16 16:33:34</td>\n",
       "      <td>749</td>\n",
       "      <td>2023-11-16 16:33:34</td>\n",
       "      <td>2023-11-16</td>\n",
       "    </tr>\n",
       "  </tbody>\n",
       "</table>\n",
       "</div>"
      ],
      "text/plain": [
       "         id         orderType            createdAt  totalSumm  \\\n",
       "5   1068594  eshop-individual  2023-11-11 08:22:02        461   \n",
       "12  1068801  eshop-individual  2023-11-18 17:16:23        468   \n",
       "3   1068862  eshop-individual  2023-11-21 13:06:07        470   \n",
       "10  1068699  eshop-individual  2023-11-15 13:43:42        505   \n",
       "1   1068599  eshop-individual  2023-11-11 17:10:12        569   \n",
       "7   1068808  eshop-individual  2023-11-19 21:53:31        619   \n",
       "19  1068732  eshop-individual  2023-11-15 08:09:12        735   \n",
       "4   1068647  eshop-individual  2023-11-14 07:36:10        735   \n",
       "5   1068763  eshop-individual  2023-11-17 10:15:26        749   \n",
       "10  1068751  eshop-individual  2023-11-16 16:33:34        749   \n",
       "\n",
       "                  Date   just_date  \n",
       "5  2023-11-11 08:22:02  2023-11-11  \n",
       "12 2023-11-18 17:16:23  2023-11-18  \n",
       "3  2023-11-21 13:06:07  2023-11-21  \n",
       "10 2023-11-15 13:43:42  2023-11-15  \n",
       "1  2023-11-11 17:10:12  2023-11-11  \n",
       "7  2023-11-19 21:53:31  2023-11-19  \n",
       "19 2023-11-15 08:09:12  2023-11-15  \n",
       "4  2023-11-14 07:36:10  2023-11-14  \n",
       "5  2023-11-17 10:15:26  2023-11-17  \n",
       "10 2023-11-16 16:33:34  2023-11-16  "
      ]
     },
     "metadata": {},
     "output_type": "display_data"
    },
    {
     "name": "stdout",
     "output_type": "stream",
     "text": [
      "Отрицательные значения столбца totalSumm\n"
     ]
    },
    {
     "data": {
      "text/plain": [
       "0"
      ]
     },
     "metadata": {},
     "output_type": "display_data"
    },
    {
     "name": "stdout",
     "output_type": "stream",
     "text": [
      "Отсутствующие значения totalSumm\n"
     ]
    },
    {
     "data": {
      "text/plain": [
       "0"
      ]
     },
     "metadata": {},
     "output_type": "display_data"
    },
    {
     "name": "stdout",
     "output_type": "stream",
     "text": [
      "Доли отсутствующих значений с округлением totalSumm\n"
     ]
    },
    {
     "data": {
      "text/plain": [
       "0.0"
      ]
     },
     "metadata": {},
     "output_type": "display_data"
    },
    {
     "name": "stdout",
     "output_type": "stream",
     "text": [
      "Сводная информация по параметрам данных totalSumm\n"
     ]
    },
    {
     "data": {
      "text/plain": [
       "count     103.00\n",
       "mean     1814.38\n",
       "std      1161.53\n",
       "min       461.00\n",
       "25%      1091.50\n",
       "50%      1440.00\n",
       "75%      2209.00\n",
       "max      6176.00\n",
       "Name: totalSumm, dtype: float64"
      ]
     },
     "metadata": {},
     "output_type": "display_data"
    },
    {
     "name": "stdout",
     "output_type": "stream",
     "text": [
      "График распределения данных totalSumm\n"
     ]
    },
    {
     "data": {
      "image/png": "[encoded data removed]",
      "text/plain": [
       "<Figure size 432x288 with 1 Axes>"
      ]
     },
     "metadata": {
      "needs_background": "light"
     },
     "output_type": "display_data"
    }
   ],
   "source": [
    "col_info_num (df_1, 'totalSumm')"
   ]
  },
  {
   "cell_type": "markdown",
   "id": "1226aecb",
   "metadata": {},
   "source": [
    "Средняя Общая сумма с учетом скидки (в валюте объекта) - 1814 рублей, медианная - 1440, то есть крупные заказы  имеют сильное вляние на средние показазтели"
   ]
  },
  {
   "cell_type": "code",
   "execution_count": 31,
   "id": "be824d51",
   "metadata": {},
   "outputs": [
    {
     "data": {
      "image/png": "[encoded data removed]",
      "text/plain": [
       "<Figure size 432x288 with 1 Axes>"
      ]
     },
     "metadata": {
      "needs_background": "light"
     },
     "output_type": "display_data"
    }
   ],
   "source": [
    "# Построим график распределения сумм заказов\n",
    "df_1['totalSumm'].hist(bins = 20);"
   ]
  },
  {
   "cell_type": "markdown",
   "id": "d75bcfc8",
   "metadata": {},
   "source": [
    "Самые популярные заказы от 1000 до 1500 рублей"
   ]
  },
  {
   "cell_type": "code",
   "execution_count": null,
   "id": "2b3d8635",
   "metadata": {},
   "outputs": [],
   "source": []
  },
  {
   "cell_type": "code",
   "execution_count": 32,
   "id": "309e1af9",
   "metadata": {
    "scrolled": false
   },
   "outputs": [
    {
     "data": {
      "text/html": [
       "<div>\n",
       "<style scoped>\n",
       "    .dataframe tbody tr th:only-of-type {\n",
       "        vertical-align: middle;\n",
       "    }\n",
       "\n",
       "    .dataframe tbody tr th {\n",
       "        vertical-align: top;\n",
       "    }\n",
       "\n",
       "    .dataframe thead tr th {\n",
       "        text-align: left;\n",
       "    }\n",
       "\n",
       "    .dataframe thead tr:last-of-type th {\n",
       "        text-align: right;\n",
       "    }\n",
       "</style>\n",
       "<table border=\"1\" class=\"dataframe\">\n",
       "  <thead>\n",
       "    <tr>\n",
       "      <th></th>\n",
       "      <th>sum</th>\n",
       "    </tr>\n",
       "    <tr>\n",
       "      <th></th>\n",
       "      <th>totalSumm</th>\n",
       "    </tr>\n",
       "    <tr>\n",
       "      <th>just_date</th>\n",
       "      <th></th>\n",
       "    </tr>\n",
       "  </thead>\n",
       "  <tbody>\n",
       "    <tr>\n",
       "      <th>2023-11-07</th>\n",
       "      <td>5481</td>\n",
       "    </tr>\n",
       "    <tr>\n",
       "      <th>2023-11-08</th>\n",
       "      <td>7560</td>\n",
       "    </tr>\n",
       "    <tr>\n",
       "      <th>2023-11-09</th>\n",
       "      <td>9049</td>\n",
       "    </tr>\n",
       "    <tr>\n",
       "      <th>2023-11-10</th>\n",
       "      <td>2417</td>\n",
       "    </tr>\n",
       "    <tr>\n",
       "      <th>2023-11-11</th>\n",
       "      <td>6837</td>\n",
       "    </tr>\n",
       "    <tr>\n",
       "      <th>2023-11-12</th>\n",
       "      <td>15910</td>\n",
       "    </tr>\n",
       "    <tr>\n",
       "      <th>2023-11-13</th>\n",
       "      <td>15523</td>\n",
       "    </tr>\n",
       "    <tr>\n",
       "      <th>2023-11-14</th>\n",
       "      <td>25792</td>\n",
       "    </tr>\n",
       "    <tr>\n",
       "      <th>2023-11-15</th>\n",
       "      <td>9049</td>\n",
       "    </tr>\n",
       "    <tr>\n",
       "      <th>2023-11-16</th>\n",
       "      <td>16913</td>\n",
       "    </tr>\n",
       "    <tr>\n",
       "      <th>2023-11-17</th>\n",
       "      <td>8393</td>\n",
       "    </tr>\n",
       "    <tr>\n",
       "      <th>2023-11-18</th>\n",
       "      <td>11823</td>\n",
       "    </tr>\n",
       "    <tr>\n",
       "      <th>2023-11-19</th>\n",
       "      <td>2074</td>\n",
       "    </tr>\n",
       "    <tr>\n",
       "      <th>2023-11-20</th>\n",
       "      <td>25952</td>\n",
       "    </tr>\n",
       "    <tr>\n",
       "      <th>2023-11-21</th>\n",
       "      <td>15509</td>\n",
       "    </tr>\n",
       "    <tr>\n",
       "      <th>2023-11-22</th>\n",
       "      <td>4710</td>\n",
       "    </tr>\n",
       "    <tr>\n",
       "      <th>2023-11-23</th>\n",
       "      <td>3889</td>\n",
       "    </tr>\n",
       "  </tbody>\n",
       "</table>\n",
       "</div>"
      ],
      "text/plain": [
       "                 sum\n",
       "           totalSumm\n",
       "just_date           \n",
       "2023-11-07      5481\n",
       "2023-11-08      7560\n",
       "2023-11-09      9049\n",
       "2023-11-10      2417\n",
       "2023-11-11      6837\n",
       "2023-11-12     15910\n",
       "2023-11-13     15523\n",
       "2023-11-14     25792\n",
       "2023-11-15      9049\n",
       "2023-11-16     16913\n",
       "2023-11-17      8393\n",
       "2023-11-18     11823\n",
       "2023-11-19      2074\n",
       "2023-11-20     25952\n",
       "2023-11-21     15509\n",
       "2023-11-22      4710\n",
       "2023-11-23      3889"
      ]
     },
     "execution_count": 32,
     "metadata": {},
     "output_type": "execute_result"
    }
   ],
   "source": [
    "# подсчитаем суммы продаж по датам в актуальном периоде\n",
    "just_date_pivot = df_1.pivot_table(index= ['just_date'], values= 'totalSumm', aggfunc= ['sum'])#.T\n",
    "# посмотрим результат\n",
    "just_date_pivot"
   ]
  },
  {
   "cell_type": "code",
   "execution_count": 33,
   "id": "dcc1b73c",
   "metadata": {},
   "outputs": [
    {
     "data": {
      "image/png": "[encoded data removed]",
      "text/plain": [
       "<Figure size 1152x360 with 1 Axes>"
      ]
     },
     "metadata": {
      "needs_background": "light"
     },
     "output_type": "display_data"
    }
   ],
   "source": [
    "just_date_pivot.plot(figsize=(16, 5),\n",
    "                       grid=True,\n",
    "                       title='Динамика продаж По датам');"
   ]
  },
  {
   "cell_type": "code",
   "execution_count": null,
   "id": "43800fb9",
   "metadata": {},
   "outputs": [],
   "source": []
  },
  {
   "cell_type": "code",
   "execution_count": null,
   "id": "f333cdbe",
   "metadata": {},
   "outputs": [],
   "source": []
  },
  {
   "cell_type": "code",
   "execution_count": null,
   "id": "d883e5d5",
   "metadata": {},
   "outputs": [],
   "source": []
  },
  {
   "cell_type": "code",
   "execution_count": null,
   "id": "571feeee",
   "metadata": {},
   "outputs": [],
   "source": []
  },
  {
   "cell_type": "code",
   "execution_count": null,
   "id": "3daeed0d",
   "metadata": {},
   "outputs": [],
   "source": []
  },
  {
   "cell_type": "markdown",
   "id": "fed8e2a8",
   "metadata": {},
   "source": [
    "Ниже черновые коды"
   ]
  },
  {
   "cell_type": "code",
   "execution_count": null,
   "id": "b28a91fd",
   "metadata": {
    "scrolled": true
   },
   "outputs": [],
   "source": []
  },
  {
   "cell_type": "code",
   "execution_count": null,
   "id": "144d4e34",
   "metadata": {
    "scrolled": true
   },
   "outputs": [],
   "source": []
  },
  {
   "cell_type": "code",
   "execution_count": null,
   "id": "2445cc80",
   "metadata": {
    "scrolled": true
   },
   "outputs": [],
   "source": []
  },
  {
   "cell_type": "code",
   "execution_count": 34,
   "id": "2e95abb1",
   "metadata": {
    "scrolled": false
   },
   "outputs": [],
   "source": [
    "# удалим столбцы со списками в значениях ('company', 'source', 'Links')\n",
    "df_1 = df.drop(['items', 'payments', 'customer', 'contact', 'contragent', 'delivery' ], axis=1)"
   ]
  },
  {
   "cell_type": "code",
   "execution_count": 35,
   "id": "b70a1308",
   "metadata": {
    "scrolled": true
   },
   "outputs": [
    {
     "ename": "SyntaxError",
     "evalue": "invalid syntax (Temp/ipykernel_2028/2057416573.py, line 1)",
     "output_type": "error",
     "traceback": [
      "\u001b[1;36m  File \u001b[1;32m\"C:\\Users\\7636~1\\AppData\\Local\\Temp/ipykernel_2028/2057416573.py\"\u001b[1;36m, line \u001b[1;32m1\u001b[0m\n\u001b[1;33m    item['data']:\u001b[0m\n\u001b[1;37m                 ^\u001b[0m\n\u001b[1;31mSyntaxError\u001b[0m\u001b[1;31m:\u001b[0m invalid syntax\n"
     ]
    }
   ],
   "source": [
    " item['data']:\n",
    "        print (data_item['name'], data_item['value'])"
   ]
  },
  {
   "cell_type": "code",
   "execution_count": null,
   "id": "f3794a0b",
   "metadata": {
    "scrolled": true
   },
   "outputs": [],
   "source": []
  },
  {
   "cell_type": "code",
   "execution_count": null,
   "id": "ed5e4ef7",
   "metadata": {
    "scrolled": true
   },
   "outputs": [],
   "source": [
    "df_1['day'] = pd.to_datetime(df_1['createdAt'], format='%Y-%m-%dT%H:%M:%S')"
   ]
  },
  {
   "cell_type": "code",
   "execution_count": null,
   "id": "78d61251",
   "metadata": {
    "scrolled": true
   },
   "outputs": [],
   "source": []
  },
  {
   "cell_type": "code",
   "execution_count": null,
   "id": "c531466e",
   "metadata": {
    "scrolled": true
   },
   "outputs": [],
   "source": [
    "import pandas as pd"
   ]
  },
  {
   "cell_type": "code",
   "execution_count": null,
   "id": "b170d114",
   "metadata": {
    "scrolled": true
   },
   "outputs": [],
   "source": [
    "df = pd.DataFrame.from_dict(list(data.items()))"
   ]
  },
  {
   "cell_type": "code",
   "execution_count": null,
   "id": "6d4f2d73",
   "metadata": {
    "scrolled": true
   },
   "outputs": [],
   "source": [
    "df"
   ]
  },
  {
   "cell_type": "code",
   "execution_count": null,
   "id": "de036546",
   "metadata": {
    "scrolled": true
   },
   "outputs": [],
   "source": [
    "df.info()"
   ]
  },
  {
   "cell_type": "code",
   "execution_count": null,
   "id": "35be3b87",
   "metadata": {
    "scrolled": true
   },
   "outputs": [],
   "source": [
    "print(pd.DataFrame(data))"
   ]
  },
  {
   "cell_type": "code",
   "execution_count": null,
   "id": "e407e356",
   "metadata": {
    "scrolled": true
   },
   "outputs": [],
   "source": [
    "df = pd.DataFrame.from_dict(list(data.columns()))"
   ]
  },
  {
   "cell_type": "code",
   "execution_count": null,
   "id": "359cb9d4",
   "metadata": {
    "scrolled": true
   },
   "outputs": [],
   "source": [
    "data"
   ]
  },
  {
   "cell_type": "code",
   "execution_count": null,
   "id": "fdd1ed40",
   "metadata": {
    "scrolled": true
   },
   "outputs": [],
   "source": [
    "def get_value(obj, key):\n",
    "    if isinstance(obj, dict):  # Проверка, является ли объект словарем\n",
    "        if key in obj:  # Проверяем, существует ли ключ в словаре\n",
    "            return obj[key]\n",
    "        for sub_obj in obj.values():\n",
    "            found = get_value(sub_obj, key)  # Рекурсивно вызываем функцию для подобъекта\n",
    "            if found:\n",
    "                return found\n",
    "    elif isinstance(obj, list):  # Проверка, является ли объект списком\n",
    "        for sub_obj in obj:\n",
    "            found = get_value(sub_obj, key)  # Рекурсивно вызываем функцию для подобъекта\n",
    "            if found:\n",
    "                return found\n",
    "    return None"
   ]
  },
  {
   "cell_type": "code",
   "execution_count": null,
   "id": "46ba0892",
   "metadata": {
    "scrolled": true
   },
   "outputs": [],
   "source": [
    "email = get_value(data, 'items')\n"
   ]
  },
  {
   "cell_type": "code",
   "execution_count": null,
   "id": "b0293c58",
   "metadata": {},
   "outputs": [],
   "source": [
    "email = get_value(data, 'items')"
   ]
  },
  {
   "cell_type": "code",
   "execution_count": null,
   "id": "85d20a9d",
   "metadata": {
    "scrolled": true
   },
   "outputs": [],
   "source": [
    "email"
   ]
  },
  {
   "cell_type": "code",
   "execution_count": null,
   "id": "43c83331",
   "metadata": {
    "scrolled": true
   },
   "outputs": [],
   "source": [
    "df = pd.DataFrame(data[\"orders\"])"
   ]
  },
  {
   "cell_type": "code",
   "execution_count": null,
   "id": "b024a7e7",
   "metadata": {
    "scrolled": false
   },
   "outputs": [],
   "source": [
    "df"
   ]
  },
  {
   "cell_type": "code",
   "execution_count": null,
   "id": "9e8c76fc",
   "metadata": {
    "scrolled": true
   },
   "outputs": [],
   "source": [
    "df_1 = df[['id', 'orderType', 'orderMethod', 'privilegeType', 'createdAt', 'statusUpdatedAt', 'items', 'summ', 'totalSumm', 'shipmentStore']]"
   ]
  },
  {
   "cell_type": "code",
   "execution_count": null,
   "id": "570a5c9b",
   "metadata": {
    "scrolled": true
   },
   "outputs": [],
   "source": [
    "df_1"
   ]
  },
  {
   "cell_type": "code",
   "execution_count": null,
   "id": "0e974d31",
   "metadata": {
    "scrolled": false
   },
   "outputs": [],
   "source": [
    "df_1.info()"
   ]
  },
  {
   "cell_type": "code",
   "execution_count": null,
   "id": "a2128f16",
   "metadata": {
    "scrolled": true
   },
   "outputs": [],
   "source": [
    "df['items']"
   ]
  },
  {
   "cell_type": "code",
   "execution_count": null,
   "id": "cfd95086",
   "metadata": {
    "scrolled": true
   },
   "outputs": [],
   "source": []
  },
  {
   "cell_type": "code",
   "execution_count": null,
   "id": "fd2c3217",
   "metadata": {
    "scrolled": false
   },
   "outputs": [],
   "source": [
    "print(df_1['items'].to_list())"
   ]
  },
  {
   "cell_type": "code",
   "execution_count": null,
   "id": "a28a2da7",
   "metadata": {
    "scrolled": true
   },
   "outputs": [],
   "source": [
    "display(df_1['items'].dtypes)\n"
   ]
  },
  {
   "cell_type": "code",
   "execution_count": null,
   "id": "30e3239c",
   "metadata": {
    "scrolled": true
   },
   "outputs": [],
   "source": [
    "display(df_1['items'].value_counts())\n"
   ]
  },
  {
   "cell_type": "code",
   "execution_count": null,
   "id": "4a2d43fc",
   "metadata": {
    "scrolled": true
   },
   "outputs": [],
   "source": [
    "# создадим фукцию для вывода инфрмации по столбцу таблицы для не числовых данных (должно быть не менее 10 строк)\n",
    "def col_info_not_num(df_x, name):\n",
    "# выведем тип данных столбца\n",
    "    print('Тип данных', name)\n",
    "    display(df_x[name].dtypes)\n",
    "# анализ столбца методом подсчета уникальных значений и количества их упоминаний\n",
    "    print('Уникальные значения и количество их упоминаний в столбце', name)\n",
    "    display(df_x[name].value_counts())\n",
    "# получение случайных 10 строк\n",
    "    print('Cлучайные 10 строк')\n",
    "    display(df_x.sample(10))\n",
    "# подсчет отсутствующих значений\n",
    "    print('Отсутствующие значения', name)\n",
    "    display(df_x[name].isna().sum())\n",
    "# подсчет доли отсутствующих значений с округлением\n",
    "    print('Доли отсутствующих значений с округлением', name)\n",
    "    display(round(df_x[name].isna().sum() * 100 / len(df_x[name]), 2))"
   ]
  },
  {
   "cell_type": "code",
   "execution_count": null,
   "id": "6053a86d",
   "metadata": {
    "scrolled": true
   },
   "outputs": [],
   "source": [
    "col_info_not_num (data, [\"items\"])"
   ]
  },
  {
   "cell_type": "code",
   "execution_count": null,
   "id": "1b720a17",
   "metadata": {
    "scrolled": true
   },
   "outputs": [],
   "source": []
  },
  {
   "cell_type": "code",
   "execution_count": null,
   "id": "454aa97a",
   "metadata": {
    "scrolled": true
   },
   "outputs": [],
   "source": []
  },
  {
   "cell_type": "code",
   "execution_count": null,
   "id": "725e3ab5",
   "metadata": {
    "scrolled": true
   },
   "outputs": [],
   "source": []
  },
  {
   "cell_type": "code",
   "execution_count": null,
   "id": "8c828af5",
   "metadata": {
    "scrolled": true
   },
   "outputs": [],
   "source": [
    "df = pd.DataFrame(data[\"items\"])"
   ]
  },
  {
   "cell_type": "code",
   "execution_count": null,
   "id": "db05191c",
   "metadata": {
    "scrolled": true
   },
   "outputs": [],
   "source": []
  },
  {
   "cell_type": "code",
   "execution_count": null,
   "id": "2696d7bb",
   "metadata": {
    "scrolled": true
   },
   "outputs": [],
   "source": []
  },
  {
   "cell_type": "code",
   "execution_count": null,
   "id": "335fb4ba",
   "metadata": {
    "scrolled": true
   },
   "outputs": [],
   "source": [
    "df.info()"
   ]
  },
  {
   "cell_type": "code",
   "execution_count": null,
   "id": "9cd49934",
   "metadata": {
    "scrolled": true
   },
   "outputs": [],
   "source": [
    "dict = json.loads(data)\n",
    "print(dict)"
   ]
  },
  {
   "cell_type": "code",
   "execution_count": null,
   "id": "4b55d40a",
   "metadata": {
    "scrolled": true
   },
   "outputs": [],
   "source": []
  },
  {
   "cell_type": "code",
   "execution_count": null,
   "id": "d2ad2987",
   "metadata": {
    "scrolled": true
   },
   "outputs": [],
   "source": [
    "with open(\"data.json\") as f:\n",
    "    data = json.load(f)\n",
    " \n",
    "print(data)"
   ]
  },
  {
   "cell_type": "code",
   "execution_count": null,
   "id": "97adbddc",
   "metadata": {
    "scrolled": true
   },
   "outputs": [],
   "source": [
    "with open(data, 'r', encoding='utf-8') as fh: #открываем файл на чтение\n",
    "    data = json.load(fh) #загружаем из файла данные в словарь data"
   ]
  },
  {
   "cell_type": "code",
   "execution_count": null,
   "id": "912f858a",
   "metadata": {
    "scrolled": true
   },
   "outputs": [],
   "source": []
  },
  {
   "cell_type": "code",
   "execution_count": null,
   "id": "d693c5d2",
   "metadata": {
    "scrolled": true
   },
   "outputs": [],
   "source": [
    "res.text"
   ]
  },
  {
   "cell_type": "code",
   "execution_count": null,
   "id": "e2af481f",
   "metadata": {
    "scrolled": true
   },
   "outputs": [],
   "source": [
    "URL_GET = 'https://app-riche-skin.ru'\n",
    "res = requests.get(url=URL_GET)\n",
    "res"
   ]
  },
  {
   "cell_type": "code",
   "execution_count": null,
   "id": "12af044f",
   "metadata": {
    "scrolled": true
   },
   "outputs": [],
   "source": [
    "URL_GET = 'https://google.com'\n",
    "res = requests.get(url=URL_GET)\n",
    "res"
   ]
  },
  {
   "cell_type": "code",
   "execution_count": null,
   "id": "4216902a",
   "metadata": {
    "scrolled": true
   },
   "outputs": [],
   "source": [
    "URL_GET = 'https://riche.skin'"
   ]
  },
  {
   "cell_type": "code",
   "execution_count": null,
   "id": "851d0dd9",
   "metadata": {
    "scrolled": true
   },
   "outputs": [],
   "source": [
    "res = requests.get(url=URL_GET)\n",
    "res"
   ]
  },
  {
   "cell_type": "code",
   "execution_count": null,
   "id": "e4fddb35",
   "metadata": {
    "scrolled": true
   },
   "outputs": [],
   "source": [
    "URL_GET = 'https://app-riche-skin'"
   ]
  },
  {
   "cell_type": "code",
   "execution_count": null,
   "id": "a4843149",
   "metadata": {
    "scrolled": true
   },
   "outputs": [],
   "source": [
    "res = requests.get(url=URL_GET)\n",
    "res"
   ]
  },
  {
   "cell_type": "code",
   "execution_count": null,
   "id": "83a52d87",
   "metadata": {
    "scrolled": true
   },
   "outputs": [],
   "source": []
  },
  {
   "cell_type": "code",
   "execution_count": null,
   "id": "b634aeab",
   "metadata": {
    "scrolled": true
   },
   "outputs": [],
   "source": [
    "for page in range(1, total_pages + 1):\n",
    "    url = f\"https://example.com/page{page}\"\n",
    "    response = requests.get(url)\n",
    "    soup = BeautifulSoup(response.text, \"html.parser\")"
   ]
  },
  {
   "cell_type": "code",
   "execution_count": null,
   "id": "8c23d791",
   "metadata": {
    "scrolled": true
   },
   "outputs": [],
   "source": [
    "html = res.text\n"
   ]
  },
  {
   "cell_type": "code",
   "execution_count": null,
   "id": "667f9da9",
   "metadata": {
    "scrolled": true
   },
   "outputs": [],
   "source": [
    "soup = BeautifulSoup(html, 'html.parser')\n"
   ]
  },
  {
   "cell_type": "code",
   "execution_count": null,
   "id": "034dacb8",
   "metadata": {
    "scrolled": true
   },
   "outputs": [],
   "source": [
    "for p in range(1, 8):\n",
    "    response = requests.get(url=URL_GET, headers=headers, params={\"page\" : p})\n",
    "    soup = BeautifulSoup(response.text, \"html.parser\")"
   ]
  },
  {
   "cell_type": "code",
   "execution_count": null,
   "id": "091cb061",
   "metadata": {
    "scrolled": true
   },
   "outputs": [],
   "source": [
    "soup"
   ]
  },
  {
   "cell_type": "code",
   "execution_count": null,
   "id": "f321de57",
   "metadata": {
    "scrolled": true
   },
   "outputs": [],
   "source": []
  },
  {
   "cell_type": "code",
   "execution_count": null,
   "id": "8fbe8f75",
   "metadata": {
    "scrolled": true
   },
   "outputs": [],
   "source": [
    "for page in range(1, total_pages + 1):\n",
    "    url = f\"https://example.com/page{page}\"\n",
    "    response = requests.get(url)\n",
    "    soup = BeautifulSoup(response.text, \"html.parser\")"
   ]
  },
  {
   "cell_type": "code",
   "execution_count": null,
   "id": "86843f3a",
   "metadata": {
    "scrolled": true
   },
   "outputs": [],
   "source": [
    "print(soup)\n"
   ]
  },
  {
   "cell_type": "code",
   "execution_count": null,
   "id": "79bb543e",
   "metadata": {
    "scrolled": true
   },
   "outputs": [],
   "source": []
  },
  {
   "cell_type": "code",
   "execution_count": null,
   "id": "7175c6c3",
   "metadata": {
    "scrolled": true
   },
   "outputs": [],
   "source": []
  },
  {
   "cell_type": "code",
   "execution_count": null,
   "id": "8cc119cb",
   "metadata": {
    "scrolled": true
   },
   "outputs": [],
   "source": [
    "res.json()"
   ]
  },
  {
   "cell_type": "code",
   "execution_count": null,
   "id": "bd9fe847",
   "metadata": {
    "scrolled": false
   },
   "outputs": [],
   "source": [
    "response = requests.get(url=URL, headers=headers)\n",
    "print(response.text)"
   ]
  },
  {
   "cell_type": "code",
   "execution_count": null,
   "id": "b0a67126",
   "metadata": {
    "scrolled": true
   },
   "outputs": [],
   "source": [
    "#print(response.status_code)  # Выводит код состояния HTTP, например, 200\n",
    "print(response.json())        # Выводит JSON-ответ"
   ]
  },
  {
   "cell_type": "code",
   "execution_count": null,
   "id": "d25230c4",
   "metadata": {
    "scrolled": true
   },
   "outputs": [],
   "source": [
    "response.encoding"
   ]
  },
  {
   "cell_type": "code",
   "execution_count": null,
   "id": "c60229a9",
   "metadata": {
    "scrolled": false
   },
   "outputs": [],
   "source": [
    "response.raw"
   ]
  },
  {
   "cell_type": "code",
   "execution_count": null,
   "id": "5b486822",
   "metadata": {
    "scrolled": true
   },
   "outputs": [],
   "source": []
  },
  {
   "cell_type": "code",
   "execution_count": null,
   "id": "301fd3d4",
   "metadata": {
    "scrolled": true
   },
   "outputs": [],
   "source": [
    "for p in range(1, 3):\n",
    "    print(p)\n"
   ]
  },
  {
   "cell_type": "code",
   "execution_count": null,
   "id": "06c4abf4",
   "metadata": {
    "scrolled": true
   },
   "outputs": [],
   "source": [
    "headers = {\"X-API-KEY\": \"FjqFa87rUgdvxFhrhyPQQiy41kl5AnXq\"}\n",
    "params={\"page\" : p}"
   ]
  },
  {
   "cell_type": "code",
   "execution_count": null,
   "id": "6fe93835",
   "metadata": {
    "scrolled": true
   },
   "outputs": [],
   "source": [
    "p"
   ]
  },
  {
   "cell_type": "code",
   "execution_count": null,
   "id": "ba13700a",
   "metadata": {
    "scrolled": true
   },
   "outputs": [],
   "source": [
    "response.headers"
   ]
  },
  {
   "cell_type": "code",
   "execution_count": null,
   "id": "d723e3cc",
   "metadata": {
    "scrolled": true
   },
   "outputs": [],
   "source": [
    "response = requests.get(url=URL, headers=headers, params=params)\n",
    "response.text"
   ]
  },
  {
   "cell_type": "code",
   "execution_count": null,
   "id": "a142b3d3",
   "metadata": {
    "scrolled": true
   },
   "outputs": [],
   "source": [
    "data = response"
   ]
  },
  {
   "cell_type": "code",
   "execution_count": null,
   "id": "16ee6de9",
   "metadata": {
    "scrolled": true
   },
   "outputs": [],
   "source": []
  },
  {
   "cell_type": "code",
   "execution_count": null,
   "id": "1d34830e",
   "metadata": {
    "scrolled": true
   },
   "outputs": [],
   "source": [
    "response_parsed = json.loads(response.text)\n",
    "print(response_parsed)\n"
   ]
  },
  {
   "cell_type": "code",
   "execution_count": null,
   "id": "9fd5fbd3",
   "metadata": {
    "scrolled": true
   },
   "outputs": [],
   "source": []
  },
  {
   "cell_type": "code",
   "execution_count": null,
   "id": "df606193",
   "metadata": {
    "scrolled": true
   },
   "outputs": [],
   "source": [
    "#r = requests.post('https://httpbin.org/post', data)  "
   ]
  },
  {
   "cell_type": "code",
   "execution_count": null,
   "id": "b1295d2c",
   "metadata": {
    "scrolled": true
   },
   "outputs": [],
   "source": [
    "#app-riche-skin/add_site_data/"
   ]
  },
  {
   "cell_type": "code",
   "execution_count": null,
   "id": "ffb58d3d",
   "metadata": {
    "scrolled": true
   },
   "outputs": [],
   "source": [
    "data = response.json()"
   ]
  },
  {
   "cell_type": "code",
   "execution_count": null,
   "id": "853420fc",
   "metadata": {
    "scrolled": true
   },
   "outputs": [],
   "source": [
    "data.values"
   ]
  },
  {
   "cell_type": "code",
   "execution_count": null,
   "id": "c07f80b6",
   "metadata": {
    "scrolled": true
   },
   "outputs": [],
   "source": [
    "data = json.loads(data)\n",
    "print(data)"
   ]
  },
  {
   "cell_type": "code",
   "execution_count": null,
   "id": "d62d3031",
   "metadata": {
    "scrolled": true
   },
   "outputs": [],
   "source": [
    "response.encoding"
   ]
  },
  {
   "cell_type": "code",
   "execution_count": null,
   "id": "13387ed4",
   "metadata": {
    "scrolled": true
   },
   "outputs": [],
   "source": [
    "s1 = json.dumps(data)\n",
    "#d2 = json.loads(s1)"
   ]
  },
  {
   "cell_type": "code",
   "execution_count": null,
   "id": "5a7649ac",
   "metadata": {
    "scrolled": true
   },
   "outputs": [],
   "source": [
    "s1"
   ]
  },
  {
   "cell_type": "code",
   "execution_count": null,
   "id": "912e3b70",
   "metadata": {
    "scrolled": true
   },
   "outputs": [],
   "source": [
    "data = json.loads(d2)\n"
   ]
  },
  {
   "cell_type": "code",
   "execution_count": null,
   "id": "ce5d21f7",
   "metadata": {
    "scrolled": true
   },
   "outputs": [],
   "source": [
    "data"
   ]
  },
  {
   "cell_type": "code",
   "execution_count": null,
   "id": "c682e34a",
   "metadata": {
    "scrolled": true
   },
   "outputs": [],
   "source": [
    "b = data.decode('utf8')"
   ]
  },
  {
   "cell_type": "code",
   "execution_count": null,
   "id": "2fe06dde",
   "metadata": {
    "scrolled": true
   },
   "outputs": [],
   "source": []
  },
  {
   "cell_type": "code",
   "execution_count": null,
   "id": "9d91234f",
   "metadata": {
    "scrolled": true
   },
   "outputs": [],
   "source": [
    "r = requests.post('https://app-riche-skin/add_site_data', data = data)"
   ]
  },
  {
   "cell_type": "code",
   "execution_count": null,
   "id": "e9792190",
   "metadata": {
    "scrolled": true
   },
   "outputs": [],
   "source": []
  },
  {
   "cell_type": "code",
   "execution_count": null,
   "id": "814a5ab4",
   "metadata": {
    "scrolled": true
   },
   "outputs": [],
   "source": []
  },
  {
   "cell_type": "code",
   "execution_count": null,
   "id": "27c88f6c",
   "metadata": {
    "scrolled": true
   },
   "outputs": [],
   "source": []
  },
  {
   "cell_type": "code",
   "execution_count": null,
   "id": "90b06e51",
   "metadata": {
    "scrolled": true
   },
   "outputs": [],
   "source": []
  },
  {
   "cell_type": "code",
   "execution_count": null,
   "id": "a2d2bf6d",
   "metadata": {
    "scrolled": true
   },
   "outputs": [],
   "source": []
  },
  {
   "cell_type": "code",
   "execution_count": null,
   "id": "ab1c7837",
   "metadata": {
    "scrolled": true
   },
   "outputs": [],
   "source": []
  },
  {
   "cell_type": "code",
   "execution_count": null,
   "id": "04b9ac6a",
   "metadata": {
    "scrolled": true
   },
   "outputs": [],
   "source": []
  }
 ],
 "metadata": {
  "hide_input": false,
  "kernelspec": {
   "display_name": "Python 3 (ipykernel)",
   "language": "python",
   "name": "python3"
  },
  "language_info": {
   "codemirror_mode": {
    "name": "ipython",
    "version": 3
   },
   "file_extension": ".py",
   "mimetype": "text/x-python",
   "name": "python",
   "nbconvert_exporter": "python",
   "pygments_lexer": "ipython3",
   "version": "3.8.6"
  }
 },
 "nbformat": 4,
 "nbformat_minor": 5
}
